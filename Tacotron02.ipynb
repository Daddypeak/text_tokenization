{
  "nbformat": 4,
  "nbformat_minor": 0,
  "metadata": {
    "colab": {
      "provenance": [],
      "authorship_tag": "ABX9TyN+YkynkTwrSv6VBP8PFA/2",
      "include_colab_link": true
    },
    "kernelspec": {
      "name": "python3",
      "display_name": "Python 3"
    },
    "language_info": {
      "name": "python"
    }
  },
  "cells": [
    {
      "cell_type": "markdown",
      "metadata": {
        "id": "view-in-github",
        "colab_type": "text"
      },
      "source": [
        "<a href=\"https://colab.research.google.com/github/Daddypeak/text_tokenization/blob/main/Tacotron02.ipynb\" target=\"_parent\"><img src=\"https://colab.research.google.com/assets/colab-badge.svg\" alt=\"Open In Colab\"/></a>"
      ]
    },
    {
      "cell_type": "markdown",
      "source": [
        "https://gogoma.tistory.com/65"
      ],
      "metadata": {
        "id": "ZZ7sApblef1l"
      }
    },
    {
      "cell_type": "markdown",
      "source": [
        "구글드라이브 연결"
      ],
      "metadata": {
        "id": "VEl8RlCg7yJL"
      }
    },
    {
      "cell_type": "code",
      "execution_count": 5,
      "metadata": {
        "colab": {
          "base_uri": "https://localhost:8080/"
        },
        "id": "R_CxsnKu7w8H",
        "outputId": "f6af7a2e-44f7-45b9-f238-872309ccc92a"
      },
      "outputs": [
        {
          "output_type": "stream",
          "name": "stdout",
          "text": [
            "Drive already mounted at /content/drive; to attempt to forcibly remount, call drive.mount(\"/content/drive\", force_remount=True).\n"
          ]
        }
      ],
      "source": [
        "# google drive 연결\n",
        "from google.colab import drive\n",
        "drive.mount('/content/drive')"
      ]
    },
    {
      "cell_type": "markdown",
      "source": [
        "ESPnet 설치"
      ],
      "metadata": {
        "id": "Nd92Qdf68B-u"
      }
    },
    {
      "cell_type": "code",
      "source": [
        "#espnet setup\n",
        "!git clone https://github.com/espnet/espnet\n",
        "!cd /content/espnet; pip install -q -e ."
      ],
      "metadata": {
        "colab": {
          "base_uri": "https://localhost:8080/"
        },
        "id": "Q5_EPJv6734N",
        "outputId": "b69a9d91-1d98-43e5-ad75-4cf108b8edde"
      },
      "execution_count": 6,
      "outputs": [
        {
          "output_type": "stream",
          "name": "stdout",
          "text": [
            "fatal: destination path 'espnet' already exists and is not an empty directory.\n",
            "  Preparing metadata (setup.py) ... \u001b[?25l\u001b[?25hdone\n"
          ]
        }
      ]
    },
    {
      "cell_type": "code",
      "source": [
        "%cd /content/espnet/tools/\n",
        "! ./setup_anaconda.sh anaconda espnet 3.8"
      ],
      "metadata": {
        "colab": {
          "base_uri": "https://localhost:8080/"
        },
        "id": "e7n8D7JN8Duh",
        "outputId": "5c83a0bd-04f4-4afa-958c-4812ad2ad0bb"
      },
      "execution_count": 7,
      "outputs": [
        {
          "output_type": "stream",
          "name": "stdout",
          "text": [
            "/content/espnet/tools\n",
            "Warning: activate_python.sh already exists. It will be overwritten\n",
            "Collecting package metadata (current_repodata.json): - \b\b\\ \b\b| \b\b/ \b\b- \b\b\\ \b\b| \b\b/ \b\b- \b\b\\ \b\b| \b\b/ \b\b- \b\b\\ \b\b| \b\b/ \b\b- \b\b\\ \b\b| \b\b/ \b\b- \b\b\\ \b\b| \b\b/ \b\b- \b\b\\ \b\b| \b\b/ \b\b- \b\b\\ \b\b| \b\b/ \b\b- \b\b\\ \b\b| \b\b/ \b\b- \b\b\\ \b\b| \b\b/ \b\b- \b\b\\ \b\b| \b\b/ \b\b- \b\b\\ \b\b| \b\b/ \b\b- \b\b\\ \b\b| \b\b/ \b\b- \b\b\\ \b\b| \b\b/ \b\b- \b\b\\ \b\b| \b\b/ \b\b- \b\b\\ \b\b| \b\b/ \b\b- \b\b\\ \b\b| \b\b/ \b\b- \b\b\\ \b\b| \b\b/ \b\b- \b\b\\ \b\b| \b\b/ \b\b- \b\b\\ \b\b| \b\b/ \b\b- \b\b\\ \b\b| \b\b/ \b\b- \b\b\\ \b\b| \b\b/ \b\b- \b\b\\ \b\b| \b\bdone\n",
            "Solving environment: - \b\b\\ \b\b| \b\b/ \b\b- \b\b\\ \b\b| \b\b/ \b\b- \b\b\\ \b\b| \b\b/ \b\b- \b\b\\ \b\b| \b\b/ \b\b- \b\b\\ \b\b| \b\b/ \b\b- \b\b\\ \b\b| \b\b/ \b\b- \b\b\\ \b\b| \b\b/ \b\b- \b\b\\ \b\b| \b\b/ \b\b- \b\b\\ \b\b| \b\b/ \b\b- \b\b\\ \b\b| \b\b/ \b\b- \b\b\\ \b\b| \b\b/ \b\b- \b\b\\ \b\b| \b\b/ \b\b- \b\b\\ \b\b| \b\bdone\n",
            "\n",
            "\n",
            "==> WARNING: A newer version of conda exists. <==\n",
            "  current version: 23.5.2\n",
            "  latest version: 23.7.2\n",
            "\n",
            "Please update conda by running\n",
            "\n",
            "    $ conda update -n base -c defaults conda\n",
            "\n",
            "Or to minimize the number of packages updated during conda update use\n",
            "\n",
            "     conda install conda=23.7.2\n",
            "\n",
            "\n",
            "\n",
            "## Package Plan ##\n",
            "\n",
            "  environment location: /content/espnet/tools/anaconda/envs/espnet\n",
            "\n",
            "  added / updated specs:\n",
            "    - conda\n",
            "    - python=3.8\n",
            "\n",
            "\n",
            "The following packages will be SUPERSEDED by a higher-priority channel:\n",
            "\n",
            "  ca-certificates    conda-forge::ca-certificates-2023.7.2~ --> pkgs/main::ca-certificates-2023.05.30-h06a4308_0 \n",
            "  certifi            conda-forge/noarch::certifi-2023.7.22~ --> pkgs/main/linux-64::certifi-2023.7.22-py38h06a4308_0 \n",
            "\n",
            "\n",
            "\n",
            "Downloading and Extracting Packages\n",
            "\n",
            "Preparing transaction: - \b\bdone\n",
            "Verifying transaction: | \b\bdone\n",
            "Executing transaction: - \b\bdone\n",
            "Collecting package metadata (current_repodata.json): - \b\b\\ \b\b| \b\b/ \b\b- \b\b\\ \b\b| \b\b/ \b\b- \b\b\\ \b\b| \b\b/ \b\b- \b\b\\ \b\b| \b\b/ \b\b- \b\b\\ \b\b| \b\b/ \b\b- \b\b\\ \b\b| \b\b/ \b\b- \b\b\\ \b\b| \b\b/ \b\b- \b\b\\ \b\b| \b\b/ \b\b- \b\b\\ \b\b| \b\b/ \b\b- \b\b\\ \b\b| \b\b/ \b\b- \b\b\\ \b\b| \b\b/ \b\b- \b\b\\ \b\b| \b\b/ \b\b- \b\b\\ \b\b| \b\b/ \b\b- \b\b\\ \b\b| \b\b/ \b\b- \b\b\\ \b\b| \b\b/ \b\b- \b\b\\ \b\b| \b\b/ \b\b- \b\b\\ \b\b| \b\b/ \b\b- \b\b\\ \b\b| \b\bdone\n",
            "Solving environment: - \b\b\\ \b\b| \b\b/ \b\b- \b\b\\ \b\b| \b\b/ \b\b- \b\b\\ \b\b| \b\b/ \b\b- \b\b\\ \b\b| \b\b/ \b\b- \b\b\\ \b\b| \b\b/ \b\b- \b\b\\ \b\b| \b\bdone\n",
            "\n",
            "\n",
            "==> WARNING: A newer version of conda exists. <==\n",
            "  current version: 23.5.2\n",
            "  latest version: 23.7.2\n",
            "\n",
            "Please update conda by running\n",
            "\n",
            "    $ conda update -n base -c defaults conda\n",
            "\n",
            "Or to minimize the number of packages updated during conda update use\n",
            "\n",
            "     conda install conda=23.7.2\n",
            "\n",
            "\n",
            "\n",
            "# All requested packages already installed.\n",
            "\n"
          ]
        }
      ]
    },
    {
      "cell_type": "code",
      "source": [
        "!make"
      ],
      "metadata": {
        "colab": {
          "base_uri": "https://localhost:8080/"
        },
        "id": "CmfKI1O28Exf",
        "outputId": "4c0f647d-80e8-46f6-f6b7-0c7dee117345"
      },
      "execution_count": 8,
      "outputs": [
        {
          "output_type": "stream",
          "name": "stdout",
          "text": [
            "CUDA_VERSION=11.8\n",
            "PYTHON=/content/espnet/tools/anaconda/envs/espnet/bin/python3\n",
            "PYTHON_VERSION=Python 3.8.17\n",
            "USE_CONDA=1\n",
            "TH_VERSION=1.13.1\n",
            "WITH_OMP=ON\n",
            ". ./activate_python.sh && python3 -m pip install packaging\n",
            "Requirement already satisfied: packaging in ./anaconda/envs/espnet/lib/python3.8/site-packages (23.0)\n",
            "\u001b[33mWARNING: Running pip as the 'root' user can result in broken permissions and conflicting behaviour with the system package manager. It is recommended to use a virtual environment instead: https://pip.pypa.io/warnings/venv\u001b[0m\u001b[33m\n",
            "\u001b[0mtouch packaging.done\n",
            ". ./activate_python.sh && python3 -m pip install -U numba\n",
            "Requirement already satisfied: numba in ./anaconda/envs/espnet/lib/python3.8/site-packages (0.57.1)\n",
            "Requirement already satisfied: llvmlite<0.41,>=0.40.0dev0 in ./anaconda/envs/espnet/lib/python3.8/site-packages (from numba) (0.40.1)\n",
            "Requirement already satisfied: numpy<1.25,>=1.21 in ./anaconda/envs/espnet/lib/python3.8/site-packages (from numba) (1.23.5)\n",
            "Requirement already satisfied: importlib-metadata in ./anaconda/envs/espnet/lib/python3.8/site-packages (from numba) (4.13.0)\n",
            "Requirement already satisfied: zipp>=0.5 in ./anaconda/envs/espnet/lib/python3.8/site-packages (from importlib-metadata->numba) (3.16.2)\n",
            "\u001b[33mWARNING: Running pip as the 'root' user can result in broken permissions and conflicting behaviour with the system package manager. It is recommended to use a virtual environment instead: https://pip.pypa.io/warnings/venv\u001b[0m\u001b[33m\n",
            "\u001b[0mtouch numba.done\n",
            ". ./activate_python.sh && ./installers/install_torch.sh \"true\" \"1.13.1\" \"11.8\"\n",
            "2023-07-30T10:39:24 (install_torch.sh:139:main) [INFO] python_version=3.8.17\n",
            "2023-07-30T10:39:24 (install_torch.sh:140:main) [INFO] torch_version=1.13.1\n",
            "2023-07-30T10:39:24 (install_torch.sh:141:main) [INFO] cuda_version=11.8\n",
            "2023-07-30T10:39:24 (install_torch.sh:133:check_cuda_version) [WARNING] Pre-build package for Pytorch=1.13.1 with CUDA=11.8 is not provided.\n",
            "2023-07-30T10:39:24 (install_torch.sh:154:main) [INFO] Fallback: cuda_version=11.8 -> cuda_version=11.7\n",
            "2023-07-30T10:39:24 (install_torch.sh:80:install_torch) conda install -y pytorch=1.13.1 torchaudio=0.13.1 pytorch-cuda=11.7 -c pytorch -c nvidia\n",
            "Collecting package metadata (current_repodata.json): - \b\b\\ \b\b| \b\b/ \b\b- \b\b\\ \b\b| \b\b/ \b\b- \b\b\\ \b\b| \b\b/ \b\b- \b\b\\ \b\b| \b\b/ \b\b- \b\b\\ \b\b| \b\b/ \b\b- \b\b\\ \b\b| \b\b/ \b\b- \b\b\\ \b\b| \b\b/ \b\b- \b\b\\ \b\b| \b\b/ \b\b- \b\b\\ \b\b| \b\b/ \b\b- \b\bdone\n",
            "Solving environment: | \b\b/ \b\b- \b\b\\ \b\b| \b\b/ \b\b- \b\b\\ \b\b| \b\b/ \b\b- \b\b\\ \b\b| \b\b/ \b\b- \b\b\\ \b\b| \b\b/ \b\b- \b\bdone\n",
            "\n",
            "# All requested packages already installed.\n",
            "\n",
            "touch pytorch.done\n",
            ". ./activate_python.sh && { command -v bc || conda install -y bc -c conda-forge; }\n",
            "/content/espnet/tools/anaconda/envs/espnet/bin/bc\n",
            "touch bc.done\n",
            ". ./activate_python.sh && { command -v cmake || conda install -y cmake; }\n",
            "/usr/local/bin/cmake\n",
            "touch cmake.done\n",
            ". ./activate_python.sh && { command -v flac || conda install -y libflac -c conda-forge; }\n",
            "/content/espnet/tools/anaconda/envs/espnet/bin/flac\n",
            "touch flac.done\n",
            ". ./activate_python.sh && { command -v sox || conda install -y sox -c conda-forge; }\n",
            "/content/espnet/tools/anaconda/envs/espnet/bin/sox\n",
            "touch sox.done\n",
            "# NOTE(kamo): The wheel version of Soundfile includes shared library and it is refered in preference.\n",
            "# However, some old linuxs are not compatible with the wheel, so libsndfile is installed for this case.\n",
            ". ./activate_python.sh && { conda install -y libsndfile -c conda-forge; }\n",
            "Collecting package metadata (current_repodata.json): - \b\b\\ \b\b| \b\b/ \b\b- \b\b\\ \b\b| \b\b/ \b\b- \b\b\\ \b\b| \b\b/ \b\b- \b\b\\ \b\b| \b\b/ \b\b- \b\b\\ \b\b| \b\b/ \b\b- \b\b\\ \b\b| \b\b/ \b\b- \b\b\\ \b\b| \b\b/ \b\b- \b\b\\ \b\b| \b\b/ \b\b- \b\b\\ \b\b| \b\b/ \b\b- \b\b\\ \b\b| \b\b/ \b\b- \b\b\\ \b\b| \b\b/ \b\b- \b\b\\ \b\b| \b\b/ \b\b- \b\b\\ \b\b| \b\b/ \b\b- \b\b\\ \b\b| \b\b/ \b\b- \b\b\\ \b\b| \b\b/ \b\b- \b\b\\ \b\b| \b\b/ \b\b- \b\b\\ \b\b| \b\b/ \b\b- \b\b\\ \b\b| \b\b/ \b\b- \b\b\\ \b\b| \b\b/ \b\b- \b\b\\ \b\b| \b\b/ \b\b- \b\b\\ \b\b| \b\b/ \b\b- \b\b\\ \b\b| \b\b/ \b\b- \b\b\\ \b\b| \b\b/ \b\b- \b\b\\ \b\b| \b\b/ \b\b- \b\b\\ \b\b| \b\b/ \b\b- \b\b\\ \b\b| \b\b/ \b\b- \b\b\\ \b\b| \b\b/ \b\b- \b\b\\ \b\b| \b\b/ \b\b- \b\b\\ \b\b| \b\b/ \b\b- \b\b\\ \b\b| \b\b/ \b\b- \b\b\\ \b\b| \b\b/ \b\b- \b\b\\ \b\b| \b\b/ \b\b- \b\b\\ \b\b| \b\b/ \b\b- \b\b\\ \b\b| \b\b/ \b\b- \b\b\\ \b\b| \b\b/ \b\b- \b\b\\ \b\b| \b\b/ \b\b- \b\b\\ \b\b| \b\b/ \b\b- \b\b\\ \b\b| \b\b/ \b\b- \b\b\\ \b\b| \b\b/ \b\b- \b\b\\ \b\b| \b\b/ \b\b- \b\b\\ \b\b| \b\b/ \b\b- \b\b\\ \b\b| \b\b/ \b\b- \b\b\\ \b\b| \b\b/ \b\b- \b\b\\ \b\b| \b\b/ \b\b- \b\b\\ \b\b| \b\b/ \b\b- \b\b\\ \b\b| \b\b/ \b\b- \b\b\\ \b\b| \b\b/ \b\b- \b\b\\ \b\b| \b\b/ \b\b- \b\b\\ \b\b| \b\b/ \b\b- \b\b\\ \b\b| \b\b/ \b\b- \b\b\\ \b\b| \b\b/ \b\b- \b\b\\ \b\b| \b\b/ \b\b- \b\b\\ \b\b| \b\b/ \b\b- \b\b\\ \b\b| \b\b/ \b\b- \b\b\\ \b\b| \b\b/ \b\b- \b\b\\ \b\b| \b\b/ \b\b- \b\b\\ \b\b| \b\b/ \b\b- \b\b\\ \b\b| \b\b/ \b\b- \b\b\\ \b\b| \b\b/ \b\b- \b\b\\ \b\b| \b\b/ \b\b- \b\b\\ \b\b| \b\b/ \b\b- \b\b\\ \b\b| \b\b/ \b\b- \b\b\\ \b\b| \b\b/ \b\b- \b\b\\ \b\b| \b\b/ \b\b- \b\b\\ \b\b| \b\b/ \b\b- \b\b\\ \b\b| \b\b/ \b\b- \b\b\\ \b\b| \b\b/ \b\b- \b\b\\ \b\b| \b\b/ \b\b- \b\b\\ \b\b| \b\b/ \b\b- \b\b\\ \b\b| \b\b/ \b\b- \b\b\\ \b\b| \b\b/ \b\b- \b\b\\ \b\b| \b\b/ \b\b- \b\b\\ \b\b| \b\b/ \b\b- \b\b\\ \b\b| \b\b/ \b\b- \b\b\\ \b\b| \b\b/ \b\b- \b\b\\ \b\b| \b\b/ \b\b- \b\b\\ \b\b| \b\b/ \b\b- \b\b\\ \b\b| \b\b/ \b\b- \b\b\\ \b\b| \b\b/ \b\b- \b\b\\ \b\b| \b\b/ \b\b- \b\b\\ \b\b| \b\b/ \b\b- \b\b\\ \b\b| \b\b/ \b\b- \b\b\\ \b\b| \b\b/ \b\b- \b\b\\ \b\b| \b\b/ \b\b- \b\b\\ \b\b| \b\b/ \b\b- \b\b\\ \b\b| \b\b/ \b\b- \b\b\\ \b\b| \b\b/ \b\b- \b\b\\ \b\b| \b\b/ \b\b- \b\b\\ \b\b| \b\b/ \b\b- \b\b\\ \b\b| \b\b/ \b\b- \b\b\\ \b\b| \b\b/ \b\b- \b\b\\ \b\b| \b\b/ \b\b- \b\b\\ \b\b| \b\b/ \b\b- \b\b\\ \b\b| \b\b/ \b\b- \b\b\\ \b\b| \b\b/ \b\b- \b\b\\ \b\b| \b\b/ \b\b- \b\b\\ \b\b| \b\b/ \b\b- \b\b\\ \b\b| \b\b/ \b\b- \b\b\\ \b\b| \b\b/ \b\b- \b\b\\ \b\bdone\n",
            "Solving environment: / \b\b- \b\b\\ \b\b| \b\b/ \b\b- \b\b\\ \b\b| \b\b/ \b\b- \b\b\\ \b\b| \b\b/ \b\b- \b\b\\ \b\b| \b\b/ \b\b- \b\b\\ \b\b| \b\b/ \b\b- \b\b\\ \b\b| \b\b/ \b\b- \b\b\\ \b\b| \b\b/ \b\b- \b\b\\ \b\b| \b\b/ \b\b- \b\b\\ \b\b| \b\b/ \b\b- \b\b\\ \b\b| \b\b/ \b\b- \b\b\\ \b\b| \b\b/ \b\bdone\n",
            "\n",
            "\n",
            "==> WARNING: A newer version of conda exists. <==\n",
            "  current version: 23.5.2\n",
            "  latest version: 23.7.2\n",
            "\n",
            "Please update conda by running\n",
            "\n",
            "    $ conda update -n base -c defaults conda\n",
            "\n",
            "Or to minimize the number of packages updated during conda update use\n",
            "\n",
            "     conda install conda=23.7.2\n",
            "\n",
            "\n",
            "\n",
            "## Package Plan ##\n",
            "\n",
            "  environment location: /content/espnet/tools/anaconda/envs/espnet\n",
            "\n",
            "  added / updated specs:\n",
            "    - libsndfile\n",
            "\n",
            "\n",
            "The following packages will be UPDATED:\n",
            "\n",
            "  ca-certificates    pkgs/main::ca-certificates-2023.05.30~ --> conda-forge::ca-certificates-2023.7.22-hbcca054_0 \n",
            "\n",
            "The following packages will be SUPERSEDED by a higher-priority channel:\n",
            "\n",
            "  certifi            pkgs/main/linux-64::certifi-2023.7.22~ --> conda-forge/noarch::certifi-2023.7.22-pyhd8ed1ab_0 \n",
            "\n",
            "\n",
            "\n",
            "Downloading and Extracting Packages\n",
            "\n",
            "Preparing transaction: \\ \b\bdone\n",
            "Verifying transaction: / \b\bdone\n",
            "Executing transaction: \\ \b\b| \b\b/ \b\b- \b\b\\ \b\b| \b\b/ \b\b- \b\bdone\n",
            "touch sndfile.done\n",
            "touch conda_packages.done\n",
            "NUMPY_VERSION=1.23.5\n",
            ". ./activate_python.sh && python3 -m pip install -e \"..[train, recipe]\"  # Install editable mode by default\n",
            "Obtaining file:///content/espnet\n",
            "  Preparing metadata (setup.py) ... \u001b[?25l\u001b[?25hdone\n",
            "Requirement already satisfied: setuptools>=38.5.1 in ./anaconda/envs/espnet/lib/python3.8/site-packages (from espnet==202304) (68.0.0)\n",
            "Requirement already satisfied: packaging in ./anaconda/envs/espnet/lib/python3.8/site-packages (from espnet==202304) (23.0)\n",
            "Requirement already satisfied: configargparse>=1.2.1 in ./anaconda/envs/espnet/lib/python3.8/site-packages (from espnet==202304) (1.7)\n",
            "Requirement already satisfied: typeguard==2.13.3 in ./anaconda/envs/espnet/lib/python3.8/site-packages (from espnet==202304) (2.13.3)\n",
            "Requirement already satisfied: humanfriendly in ./anaconda/envs/espnet/lib/python3.8/site-packages (from espnet==202304) (10.0)\n",
            "Requirement already satisfied: scipy>=1.4.1 in ./anaconda/envs/espnet/lib/python3.8/site-packages (from espnet==202304) (1.10.1)\n",
            "Requirement already satisfied: filelock in ./anaconda/envs/espnet/lib/python3.8/site-packages (from espnet==202304) (3.12.2)\n",
            "Requirement already satisfied: librosa==0.9.2 in ./anaconda/envs/espnet/lib/python3.8/site-packages (from espnet==202304) (0.9.2)\n",
            "Requirement already satisfied: jamo==0.4.1 in ./anaconda/envs/espnet/lib/python3.8/site-packages (from espnet==202304) (0.4.1)\n",
            "Requirement already satisfied: PyYAML>=5.1.2 in ./anaconda/envs/espnet/lib/python3.8/site-packages (from espnet==202304) (6.0.1)\n",
            "Requirement already satisfied: soundfile>=0.10.2 in ./anaconda/envs/espnet/lib/python3.8/site-packages (from espnet==202304) (0.12.1)\n",
            "Requirement already satisfied: h5py>=2.10.0 in ./anaconda/envs/espnet/lib/python3.8/site-packages (from espnet==202304) (3.9.0)\n",
            "Requirement already satisfied: kaldiio>=2.18.0 in ./anaconda/envs/espnet/lib/python3.8/site-packages (from espnet==202304) (2.18.0)\n",
            "Requirement already satisfied: torch>=1.3.0 in ./anaconda/envs/espnet/lib/python3.8/site-packages (from espnet==202304) (1.13.1)\n",
            "Requirement already satisfied: torch_complex in ./anaconda/envs/espnet/lib/python3.8/site-packages (from espnet==202304) (0.4.3)\n",
            "Requirement already satisfied: nltk>=3.4.5 in ./anaconda/envs/espnet/lib/python3.8/site-packages (from espnet==202304) (3.8.1)\n",
            "Requirement already satisfied: numpy<1.24 in ./anaconda/envs/espnet/lib/python3.8/site-packages (from espnet==202304) (1.23.5)\n",
            "Requirement already satisfied: protobuf<=3.20.1 in ./anaconda/envs/espnet/lib/python3.8/site-packages (from espnet==202304) (3.20.1)\n",
            "Requirement already satisfied: hydra-core in ./anaconda/envs/espnet/lib/python3.8/site-packages (from espnet==202304) (1.3.2)\n",
            "Requirement already satisfied: opt-einsum in ./anaconda/envs/espnet/lib/python3.8/site-packages (from espnet==202304) (3.3.0)\n",
            "Requirement already satisfied: sentencepiece==0.1.97 in ./anaconda/envs/espnet/lib/python3.8/site-packages (from espnet==202304) (0.1.97)\n",
            "Requirement already satisfied: ctc-segmentation>=1.6.6 in ./anaconda/envs/espnet/lib/python3.8/site-packages (from espnet==202304) (1.7.4)\n",
            "Requirement already satisfied: pyworld>=0.3.4 in ./anaconda/envs/espnet/lib/python3.8/site-packages (from espnet==202304) (0.3.4)\n",
            "Requirement already satisfied: pypinyin<=0.44.0 in ./anaconda/envs/espnet/lib/python3.8/site-packages (from espnet==202304) (0.44.0)\n",
            "Requirement already satisfied: espnet_tts_frontend in ./anaconda/envs/espnet/lib/python3.8/site-packages (from espnet==202304) (0.0.3)\n",
            "Requirement already satisfied: ci_sdr in ./anaconda/envs/espnet/lib/python3.8/site-packages (from espnet==202304) (0.0.2)\n",
            "Requirement already satisfied: pytorch_wpe in ./anaconda/envs/espnet/lib/python3.8/site-packages (from espnet==202304) (0.0.1)\n",
            "Requirement already satisfied: fast-bss-eval==0.1.3 in ./anaconda/envs/espnet/lib/python3.8/site-packages (from espnet==202304) (0.1.3)\n",
            "Requirement already satisfied: asteroid_filterbanks==0.4.0 in ./anaconda/envs/espnet/lib/python3.8/site-packages (from espnet==202304) (0.4.0)\n",
            "Requirement already satisfied: editdistance in ./anaconda/envs/espnet/lib/python3.8/site-packages (from espnet==202304) (0.5.2)\n",
            "Requirement already satisfied: importlib-metadata<5.0 in ./anaconda/envs/espnet/lib/python3.8/site-packages (from espnet==202304) (4.13.0)\n",
            "Requirement already satisfied: matplotlib in ./anaconda/envs/espnet/lib/python3.8/site-packages (from espnet==202304) (3.7.2)\n",
            "Requirement already satisfied: pillow==9.5.0 in ./anaconda/envs/espnet/lib/python3.8/site-packages (from espnet==202304) (9.5.0)\n",
            "Requirement already satisfied: wandb in ./anaconda/envs/espnet/lib/python3.8/site-packages (from espnet==202304) (0.15.7)\n",
            "Requirement already satisfied: tensorboard>=1.14 in ./anaconda/envs/espnet/lib/python3.8/site-packages (from espnet==202304) (2.13.0)\n",
            "Requirement already satisfied: espnet_model_zoo in ./anaconda/envs/espnet/lib/python3.8/site-packages (from espnet==202304) (0.1.7)\n",
            "Requirement already satisfied: gdown in ./anaconda/envs/espnet/lib/python3.8/site-packages (from espnet==202304) (4.7.1)\n",
            "Requirement already satisfied: resampy in ./anaconda/envs/espnet/lib/python3.8/site-packages (from espnet==202304) (0.4.2)\n",
            "Requirement already satisfied: pysptk>=0.2.1 in ./anaconda/envs/espnet/lib/python3.8/site-packages (from espnet==202304) (0.2.1)\n",
            "Requirement already satisfied: morfessor in ./anaconda/envs/espnet/lib/python3.8/site-packages (from espnet==202304) (2.0.6)\n",
            "Requirement already satisfied: youtube_dl in ./anaconda/envs/espnet/lib/python3.8/site-packages (from espnet==202304) (2021.12.17)\n",
            "Requirement already satisfied: nnmnkwii in ./anaconda/envs/espnet/lib/python3.8/site-packages (from espnet==202304) (0.1.2)\n",
            "Requirement already satisfied: museval>=0.2.1 in ./anaconda/envs/espnet/lib/python3.8/site-packages (from espnet==202304) (0.4.1)\n",
            "Requirement already satisfied: pystoi>=0.2.2 in ./anaconda/envs/espnet/lib/python3.8/site-packages (from espnet==202304) (0.3.3)\n",
            "Requirement already satisfied: mir-eval>=0.6 in ./anaconda/envs/espnet/lib/python3.8/site-packages (from espnet==202304) (0.7)\n",
            "Requirement already satisfied: fastdtw in ./anaconda/envs/espnet/lib/python3.8/site-packages (from espnet==202304) (0.3.4)\n",
            "Requirement already satisfied: nara_wpe>=0.0.5 in ./anaconda/envs/espnet/lib/python3.8/site-packages (from espnet==202304) (0.0.9)\n",
            "Requirement already satisfied: sacrebleu>=1.5.1 in ./anaconda/envs/espnet/lib/python3.8/site-packages (from espnet==202304) (2.3.1)\n",
            "Requirement already satisfied: praatio<7,>=6 in ./anaconda/envs/espnet/lib/python3.8/site-packages (from espnet==202304) (6.0.1)\n",
            "Requirement already satisfied: scikit-learn>=1.0.0 in ./anaconda/envs/espnet/lib/python3.8/site-packages (from espnet==202304) (1.3.0)\n",
            "Requirement already satisfied: typing-extensions in ./anaconda/envs/espnet/lib/python3.8/site-packages (from asteroid_filterbanks==0.4.0->espnet==202304) (4.7.1)\n",
            "Requirement already satisfied: audioread>=2.1.9 in ./anaconda/envs/espnet/lib/python3.8/site-packages (from librosa==0.9.2->espnet==202304) (3.0.0)\n",
            "Requirement already satisfied: joblib>=0.14 in ./anaconda/envs/espnet/lib/python3.8/site-packages (from librosa==0.9.2->espnet==202304) (1.3.1)\n",
            "Requirement already satisfied: decorator>=4.0.10 in ./anaconda/envs/espnet/lib/python3.8/site-packages (from librosa==0.9.2->espnet==202304) (5.1.1)\n",
            "Requirement already satisfied: numba>=0.45.1 in ./anaconda/envs/espnet/lib/python3.8/site-packages (from librosa==0.9.2->espnet==202304) (0.57.1)\n",
            "Requirement already satisfied: pooch>=1.0 in ./anaconda/envs/espnet/lib/python3.8/site-packages (from librosa==0.9.2->espnet==202304) (1.7.0)\n",
            "Requirement already satisfied: Cython in ./anaconda/envs/espnet/lib/python3.8/site-packages (from ctc-segmentation>=1.6.6->espnet==202304) (3.0.0)\n",
            "Requirement already satisfied: zipp>=0.5 in ./anaconda/envs/espnet/lib/python3.8/site-packages (from importlib-metadata<5.0->espnet==202304) (3.16.2)\n",
            "Requirement already satisfied: future in ./anaconda/envs/espnet/lib/python3.8/site-packages (from mir-eval>=0.6->espnet==202304) (0.18.3)\n",
            "Requirement already satisfied: six in ./anaconda/envs/espnet/lib/python3.8/site-packages (from mir-eval>=0.6->espnet==202304) (1.16.0)\n",
            "Requirement already satisfied: musdb>=0.4.0 in ./anaconda/envs/espnet/lib/python3.8/site-packages (from museval>=0.2.1->espnet==202304) (0.4.0)\n",
            "Requirement already satisfied: pandas>=1.0.1 in ./anaconda/envs/espnet/lib/python3.8/site-packages (from museval>=0.2.1->espnet==202304) (2.0.3)\n",
            "Requirement already satisfied: simplejson>=3.19.0 in ./anaconda/envs/espnet/lib/python3.8/site-packages (from museval>=0.2.1->espnet==202304) (3.19.1)\n",
            "Requirement already satisfied: jsonschema in ./anaconda/envs/espnet/lib/python3.8/site-packages (from museval>=0.2.1->espnet==202304) (4.18.4)\n",
            "Requirement already satisfied: tqdm in ./anaconda/envs/espnet/lib/python3.8/site-packages (from nara_wpe>=0.0.5->espnet==202304) (4.65.0)\n",
            "Requirement already satisfied: bottleneck in ./anaconda/envs/espnet/lib/python3.8/site-packages (from nara_wpe>=0.0.5->espnet==202304) (1.3.7)\n",
            "Requirement already satisfied: click in ./anaconda/envs/espnet/lib/python3.8/site-packages (from nara_wpe>=0.0.5->espnet==202304) (8.1.6)\n",
            "Requirement already satisfied: regex>=2021.8.3 in ./anaconda/envs/espnet/lib/python3.8/site-packages (from nltk>=3.4.5->espnet==202304) (2023.6.3)\n",
            "Requirement already satisfied: portalocker in ./anaconda/envs/espnet/lib/python3.8/site-packages (from sacrebleu>=1.5.1->espnet==202304) (2.7.0)\n",
            "Requirement already satisfied: tabulate>=0.8.9 in ./anaconda/envs/espnet/lib/python3.8/site-packages (from sacrebleu>=1.5.1->espnet==202304) (0.9.0)\n",
            "Requirement already satisfied: colorama in ./anaconda/envs/espnet/lib/python3.8/site-packages (from sacrebleu>=1.5.1->espnet==202304) (0.4.6)\n",
            "Requirement already satisfied: lxml in ./anaconda/envs/espnet/lib/python3.8/site-packages (from sacrebleu>=1.5.1->espnet==202304) (4.9.3)\n",
            "Requirement already satisfied: threadpoolctl>=2.0.0 in ./anaconda/envs/espnet/lib/python3.8/site-packages (from scikit-learn>=1.0.0->espnet==202304) (3.2.0)\n",
            "Requirement already satisfied: cffi>=1.0 in ./anaconda/envs/espnet/lib/python3.8/site-packages (from soundfile>=0.10.2->espnet==202304) (1.15.1)\n",
            "Requirement already satisfied: absl-py>=0.4 in ./anaconda/envs/espnet/lib/python3.8/site-packages (from tensorboard>=1.14->espnet==202304) (1.4.0)\n",
            "Requirement already satisfied: grpcio>=1.48.2 in ./anaconda/envs/espnet/lib/python3.8/site-packages (from tensorboard>=1.14->espnet==202304) (1.56.2)\n",
            "Requirement already satisfied: google-auth<3,>=1.6.3 in ./anaconda/envs/espnet/lib/python3.8/site-packages (from tensorboard>=1.14->espnet==202304) (2.22.0)\n",
            "Requirement already satisfied: google-auth-oauthlib<1.1,>=0.5 in ./anaconda/envs/espnet/lib/python3.8/site-packages (from tensorboard>=1.14->espnet==202304) (1.0.0)\n",
            "Requirement already satisfied: markdown>=2.6.8 in ./anaconda/envs/espnet/lib/python3.8/site-packages (from tensorboard>=1.14->espnet==202304) (3.4.4)\n",
            "Requirement already satisfied: requests<3,>=2.21.0 in ./anaconda/envs/espnet/lib/python3.8/site-packages (from tensorboard>=1.14->espnet==202304) (2.31.0)\n",
            "Requirement already satisfied: tensorboard-data-server<0.8.0,>=0.7.0 in ./anaconda/envs/espnet/lib/python3.8/site-packages (from tensorboard>=1.14->espnet==202304) (0.7.1)\n",
            "Requirement already satisfied: werkzeug>=1.0.1 in ./anaconda/envs/espnet/lib/python3.8/site-packages (from tensorboard>=1.14->espnet==202304) (2.3.6)\n",
            "Requirement already satisfied: wheel>=0.26 in ./anaconda/envs/espnet/lib/python3.8/site-packages (from tensorboard>=1.14->espnet==202304) (0.38.4)\n",
            "Requirement already satisfied: einops in ./anaconda/envs/espnet/lib/python3.8/site-packages (from ci_sdr->espnet==202304) (0.6.1)\n",
            "Requirement already satisfied: huggingface-hub in ./anaconda/envs/espnet/lib/python3.8/site-packages (from espnet_model_zoo->espnet==202304) (0.16.4)\n",
            "Requirement already satisfied: unidecode>=1.0.22 in ./anaconda/envs/espnet/lib/python3.8/site-packages (from espnet_tts_frontend->espnet==202304) (1.3.6)\n",
            "Requirement already satisfied: inflect>=1.0.0 in ./anaconda/envs/espnet/lib/python3.8/site-packages (from espnet_tts_frontend->espnet==202304) (7.0.0)\n",
            "Requirement already satisfied: jaconv in ./anaconda/envs/espnet/lib/python3.8/site-packages (from espnet_tts_frontend->espnet==202304) (0.3.4)\n",
            "Requirement already satisfied: g2p-en in ./anaconda/envs/espnet/lib/python3.8/site-packages (from espnet_tts_frontend->espnet==202304) (2.1.0)\n",
            "Requirement already satisfied: beautifulsoup4 in ./anaconda/envs/espnet/lib/python3.8/site-packages (from gdown->espnet==202304) (4.12.2)\n",
            "Requirement already satisfied: omegaconf<2.4,>=2.2 in ./anaconda/envs/espnet/lib/python3.8/site-packages (from hydra-core->espnet==202304) (2.3.0)\n",
            "Requirement already satisfied: antlr4-python3-runtime==4.9.* in ./anaconda/envs/espnet/lib/python3.8/site-packages (from hydra-core->espnet==202304) (4.9.3)\n",
            "Requirement already satisfied: importlib-resources in ./anaconda/envs/espnet/lib/python3.8/site-packages (from hydra-core->espnet==202304) (6.0.0)\n",
            "Requirement already satisfied: contourpy>=1.0.1 in ./anaconda/envs/espnet/lib/python3.8/site-packages (from matplotlib->espnet==202304) (1.1.0)\n",
            "Requirement already satisfied: cycler>=0.10 in ./anaconda/envs/espnet/lib/python3.8/site-packages (from matplotlib->espnet==202304) (0.11.0)\n",
            "Requirement already satisfied: fonttools>=4.22.0 in ./anaconda/envs/espnet/lib/python3.8/site-packages (from matplotlib->espnet==202304) (4.41.1)\n",
            "Requirement already satisfied: kiwisolver>=1.0.1 in ./anaconda/envs/espnet/lib/python3.8/site-packages (from matplotlib->espnet==202304) (1.4.4)\n",
            "Requirement already satisfied: pyparsing<3.1,>=2.3.1 in ./anaconda/envs/espnet/lib/python3.8/site-packages (from matplotlib->espnet==202304) (3.0.9)\n",
            "Requirement already satisfied: python-dateutil>=2.7 in ./anaconda/envs/espnet/lib/python3.8/site-packages (from matplotlib->espnet==202304) (2.8.2)\n",
            "Requirement already satisfied: GitPython!=3.1.29,>=1.0.0 in ./anaconda/envs/espnet/lib/python3.8/site-packages (from wandb->espnet==202304) (3.1.32)\n",
            "Requirement already satisfied: psutil>=5.0.0 in ./anaconda/envs/espnet/lib/python3.8/site-packages (from wandb->espnet==202304) (5.9.5)\n",
            "Requirement already satisfied: sentry-sdk>=1.0.0 in ./anaconda/envs/espnet/lib/python3.8/site-packages (from wandb->espnet==202304) (1.28.1)\n",
            "Requirement already satisfied: docker-pycreds>=0.4.0 in ./anaconda/envs/espnet/lib/python3.8/site-packages (from wandb->espnet==202304) (0.4.0)\n",
            "Requirement already satisfied: pathtools in ./anaconda/envs/espnet/lib/python3.8/site-packages (from wandb->espnet==202304) (0.1.2)\n",
            "Requirement already satisfied: setproctitle in ./anaconda/envs/espnet/lib/python3.8/site-packages (from wandb->espnet==202304) (1.3.2)\n",
            "Requirement already satisfied: appdirs>=1.4.3 in ./anaconda/envs/espnet/lib/python3.8/site-packages (from wandb->espnet==202304) (1.4.4)\n",
            "Requirement already satisfied: pycparser in ./anaconda/envs/espnet/lib/python3.8/site-packages (from cffi>=1.0->soundfile>=0.10.2->espnet==202304) (2.21)\n",
            "Requirement already satisfied: gitdb<5,>=4.0.1 in ./anaconda/envs/espnet/lib/python3.8/site-packages (from GitPython!=3.1.29,>=1.0.0->wandb->espnet==202304) (4.0.10)\n",
            "Requirement already satisfied: cachetools<6.0,>=2.0.0 in ./anaconda/envs/espnet/lib/python3.8/site-packages (from google-auth<3,>=1.6.3->tensorboard>=1.14->espnet==202304) (5.3.1)\n",
            "Requirement already satisfied: pyasn1-modules>=0.2.1 in ./anaconda/envs/espnet/lib/python3.8/site-packages (from google-auth<3,>=1.6.3->tensorboard>=1.14->espnet==202304) (0.3.0)\n",
            "Requirement already satisfied: rsa<5,>=3.1.4 in ./anaconda/envs/espnet/lib/python3.8/site-packages (from google-auth<3,>=1.6.3->tensorboard>=1.14->espnet==202304) (4.9)\n",
            "Requirement already satisfied: urllib3<2.0 in ./anaconda/envs/espnet/lib/python3.8/site-packages (from google-auth<3,>=1.6.3->tensorboard>=1.14->espnet==202304) (1.26.16)\n",
            "Requirement already satisfied: requests-oauthlib>=0.7.0 in ./anaconda/envs/espnet/lib/python3.8/site-packages (from google-auth-oauthlib<1.1,>=0.5->tensorboard>=1.14->espnet==202304) (1.3.1)\n",
            "Requirement already satisfied: pydantic>=1.9.1 in ./anaconda/envs/espnet/lib/python3.8/site-packages (from inflect>=1.0.0->espnet_tts_frontend->espnet==202304) (2.1.1)\n",
            "Requirement already satisfied: stempeg>=0.2.3 in ./anaconda/envs/espnet/lib/python3.8/site-packages (from musdb>=0.4.0->museval>=0.2.1->espnet==202304) (0.2.3)\n",
            "Requirement already satisfied: pyaml in ./anaconda/envs/espnet/lib/python3.8/site-packages (from musdb>=0.4.0->museval>=0.2.1->espnet==202304) (23.7.0)\n",
            "Requirement already satisfied: llvmlite<0.41,>=0.40.0dev0 in ./anaconda/envs/espnet/lib/python3.8/site-packages (from numba>=0.45.1->librosa==0.9.2->espnet==202304) (0.40.1)\n",
            "Requirement already satisfied: pytz>=2020.1 in ./anaconda/envs/espnet/lib/python3.8/site-packages (from pandas>=1.0.1->museval>=0.2.1->espnet==202304) (2023.3)\n",
            "Requirement already satisfied: tzdata>=2022.1 in ./anaconda/envs/espnet/lib/python3.8/site-packages (from pandas>=1.0.1->museval>=0.2.1->espnet==202304) (2023.3)\n",
            "Requirement already satisfied: platformdirs>=2.5.0 in ./anaconda/envs/espnet/lib/python3.8/site-packages (from pooch>=1.0->librosa==0.9.2->espnet==202304) (3.10.0)\n",
            "Requirement already satisfied: charset-normalizer<4,>=2 in ./anaconda/envs/espnet/lib/python3.8/site-packages (from requests<3,>=2.21.0->tensorboard>=1.14->espnet==202304) (2.0.4)\n",
            "Requirement already satisfied: idna<4,>=2.5 in ./anaconda/envs/espnet/lib/python3.8/site-packages (from requests<3,>=2.21.0->tensorboard>=1.14->espnet==202304) (3.4)\n",
            "Requirement already satisfied: certifi>=2017.4.17 in ./anaconda/envs/espnet/lib/python3.8/site-packages (from requests<3,>=2.21.0->tensorboard>=1.14->espnet==202304) (2023.7.22)\n",
            "Requirement already satisfied: MarkupSafe>=2.1.1 in ./anaconda/envs/espnet/lib/python3.8/site-packages (from werkzeug>=1.0.1->tensorboard>=1.14->espnet==202304) (2.1.3)\n",
            "Requirement already satisfied: soupsieve>1.2 in ./anaconda/envs/espnet/lib/python3.8/site-packages (from beautifulsoup4->gdown->espnet==202304) (2.4.1)\n",
            "Requirement already satisfied: distance>=0.1.3 in ./anaconda/envs/espnet/lib/python3.8/site-packages (from g2p-en->espnet_tts_frontend->espnet==202304) (0.1.3)\n",
            "Requirement already satisfied: fsspec in ./anaconda/envs/espnet/lib/python3.8/site-packages (from huggingface-hub->espnet_model_zoo->espnet==202304) (2023.6.0)\n",
            "Requirement already satisfied: attrs>=22.2.0 in ./anaconda/envs/espnet/lib/python3.8/site-packages (from jsonschema->museval>=0.2.1->espnet==202304) (23.1.0)\n",
            "Requirement already satisfied: jsonschema-specifications>=2023.03.6 in ./anaconda/envs/espnet/lib/python3.8/site-packages (from jsonschema->museval>=0.2.1->espnet==202304) (2023.7.1)\n",
            "Requirement already satisfied: pkgutil-resolve-name>=1.3.10 in ./anaconda/envs/espnet/lib/python3.8/site-packages (from jsonschema->museval>=0.2.1->espnet==202304) (1.3.10)\n",
            "Requirement already satisfied: referencing>=0.28.4 in ./anaconda/envs/espnet/lib/python3.8/site-packages (from jsonschema->museval>=0.2.1->espnet==202304) (0.30.0)\n",
            "Requirement already satisfied: rpds-py>=0.7.1 in ./anaconda/envs/espnet/lib/python3.8/site-packages (from jsonschema->museval>=0.2.1->espnet==202304) (0.9.2)\n",
            "Requirement already satisfied: PySocks!=1.5.7,>=1.5.6 in ./anaconda/envs/espnet/lib/python3.8/site-packages (from requests<3,>=2.21.0->tensorboard>=1.14->espnet==202304) (1.7.1)\n",
            "Requirement already satisfied: smmap<6,>=3.0.1 in ./anaconda/envs/espnet/lib/python3.8/site-packages (from gitdb<5,>=4.0.1->GitPython!=3.1.29,>=1.0.0->wandb->espnet==202304) (5.0.0)\n",
            "Requirement already satisfied: pyasn1<0.6.0,>=0.4.6 in ./anaconda/envs/espnet/lib/python3.8/site-packages (from pyasn1-modules>=0.2.1->google-auth<3,>=1.6.3->tensorboard>=1.14->espnet==202304) (0.5.0)\n",
            "Requirement already satisfied: annotated-types>=0.4.0 in ./anaconda/envs/espnet/lib/python3.8/site-packages (from pydantic>=1.9.1->inflect>=1.0.0->espnet_tts_frontend->espnet==202304) (0.5.0)\n",
            "Requirement already satisfied: pydantic-core==2.4.0 in ./anaconda/envs/espnet/lib/python3.8/site-packages (from pydantic>=1.9.1->inflect>=1.0.0->espnet_tts_frontend->espnet==202304) (2.4.0)\n",
            "Requirement already satisfied: oauthlib>=3.0.0 in ./anaconda/envs/espnet/lib/python3.8/site-packages (from requests-oauthlib>=0.7.0->google-auth-oauthlib<1.1,>=0.5->tensorboard>=1.14->espnet==202304) (3.2.2)\n",
            "Requirement already satisfied: ffmpeg-python>=0.2.0 in ./anaconda/envs/espnet/lib/python3.8/site-packages (from stempeg>=0.2.3->musdb>=0.4.0->museval>=0.2.1->espnet==202304) (0.2.0)\n",
            "Installing collected packages: espnet\n",
            "  Attempting uninstall: espnet\n",
            "    Found existing installation: espnet 202304\n",
            "    Uninstalling espnet-202304:\n",
            "      Successfully uninstalled espnet-202304\n",
            "  Running setup.py develop for espnet\n",
            "Successfully installed espnet-202304\n",
            "\u001b[33mWARNING: Running pip as the 'root' user can result in broken permissions and conflicting behaviour with the system package manager. It is recommended to use a virtual environment instead: https://pip.pypa.io/warnings/venv\u001b[0m\u001b[33m\n",
            "\u001b[0mNUMPY_VERSION=1.23.5\n",
            "touch espnet.done\n",
            ". ./activate_python.sh && ./installers/install_chainer.sh \"11.8\"\n",
            "Obtaining file:///content/espnet/tools/chainer\n",
            "  Preparing metadata (setup.py) ... \u001b[?25l\u001b[?25hdone\n",
            "Requirement already satisfied: setuptools in ./anaconda/envs/espnet/lib/python3.8/site-packages (from chainer==6.0.0) (68.0.0)\n",
            "Requirement already satisfied: typing_extensions in ./anaconda/envs/espnet/lib/python3.8/site-packages (from chainer==6.0.0) (4.7.1)\n",
            "Requirement already satisfied: filelock in ./anaconda/envs/espnet/lib/python3.8/site-packages (from chainer==6.0.0) (3.12.2)\n",
            "Requirement already satisfied: numpy>=1.9.0 in ./anaconda/envs/espnet/lib/python3.8/site-packages (from chainer==6.0.0) (1.23.5)\n",
            "Requirement already satisfied: protobuf in ./anaconda/envs/espnet/lib/python3.8/site-packages (from chainer==6.0.0) (3.20.1)\n",
            "Requirement already satisfied: six>=1.9.0 in ./anaconda/envs/espnet/lib/python3.8/site-packages (from chainer==6.0.0) (1.16.0)\n",
            "Installing collected packages: chainer\n",
            "  Attempting uninstall: chainer\n",
            "    Found existing installation: chainer 6.0.0\n",
            "    Uninstalling chainer-6.0.0:\n",
            "      Successfully uninstalled chainer-6.0.0\n",
            "  Running setup.py develop for chainer\n",
            "Successfully installed chainer-6.0.0\n",
            "\u001b[33mWARNING: Running pip as the 'root' user can result in broken permissions and conflicting behaviour with the system package manager. It is recommended to use a virtual environment instead: https://pip.pypa.io/warnings/venv\u001b[0m\u001b[33m\n",
            "\u001b[0m[INFO] Skip cupy installation\n",
            "touch chainer.done\n",
            ". ./activate_python.sh && ./installers/install_fairscale.sh\n",
            "[INFO] torch_version=1.13.1\n",
            "Requirement already satisfied: fairscale in ./anaconda/envs/espnet/lib/python3.8/site-packages (0.4.13)\n",
            "Requirement already satisfied: torch>=1.8.0 in ./anaconda/envs/espnet/lib/python3.8/site-packages (from fairscale) (1.13.1)\n",
            "Requirement already satisfied: numpy>=1.22.0 in ./anaconda/envs/espnet/lib/python3.8/site-packages (from fairscale) (1.23.5)\n",
            "Requirement already satisfied: typing_extensions in ./anaconda/envs/espnet/lib/python3.8/site-packages (from torch>=1.8.0->fairscale) (4.7.1)\n",
            "\u001b[33mWARNING: Running pip as the 'root' user can result in broken permissions and conflicting behaviour with the system package manager. It is recommended to use a virtual environment instead: https://pip.pypa.io/warnings/venv\u001b[0m\u001b[33m\n",
            "\u001b[0mtouch fairscale.done\n",
            ". ./activate_python.sh && ./installers/install_torch_optimizer.sh\n",
            "[INFO] torch_version=1.13.1\n",
            "Requirement already satisfied: torch_optimizer in ./anaconda/envs/espnet/lib/python3.8/site-packages (0.3.0)\n",
            "Requirement already satisfied: torch>=1.5.0 in ./anaconda/envs/espnet/lib/python3.8/site-packages (from torch_optimizer) (1.13.1)\n",
            "Requirement already satisfied: pytorch-ranger>=0.1.1 in ./anaconda/envs/espnet/lib/python3.8/site-packages (from torch_optimizer) (0.1.1)\n",
            "Requirement already satisfied: typing_extensions in ./anaconda/envs/espnet/lib/python3.8/site-packages (from torch>=1.5.0->torch_optimizer) (4.7.1)\n",
            "\u001b[33mWARNING: Running pip as the 'root' user can result in broken permissions and conflicting behaviour with the system package manager. It is recommended to use a virtual environment instead: https://pip.pypa.io/warnings/venv\u001b[0m\u001b[33m\n",
            "\u001b[0mtouch torch_optimizer.done\n",
            ". ./activate_python.sh && { command -v ffmpeg || conda install -y ffmpeg -c conda-forge; }\n",
            "/usr/bin/ffmpeg\n",
            "touch ffmpeg.done\n",
            ". ./activate_python.sh; . ./extra_path.sh; python3 check_install.py\n",
            "[x] python=3.8.17 | packaged by conda-forge | (default, Jun 16 2023, 07:06:00)  [GCC 11.4.0]\n",
            "\n",
            "Python modules:\n",
            "[x] torch=1.13.1\n",
            "[ ] torch cuda\n",
            "[x] torch cudnn=8500\n",
            "[x] torch nccl\n",
            "[x] chainer=6.0.0\n",
            "[ ] chainer cuda\n",
            "[ ] chainer cudnn\n",
            "[ ] cupy\n",
            "[x] torchaudio=0.13.1\n",
            "[x] torch_optimizer=0.3.0\n",
            "[ ] warprnnt_pytorch\n",
            "[ ] chainer_ctc\n",
            "[ ] pyopenjtalk\n",
            "[ ] tdmelodic_pyopenjtalk\n",
            "[ ] kenlm\n",
            "[ ] mmseg\n",
            "[x] espnet=202304\n",
            "[x] numpy=1.23.5\n",
            "[ ] fairseq\n",
            "[ ] phonemizer\n",
            "[ ] gtn\n",
            "[ ] s3prl\n",
            "[ ] transformers\n",
            "[ ] speechbrain\n",
            "[ ] k2\n",
            "[ ] longformer\n",
            "[ ] nlg-eval\n",
            "[ ] datasets\n",
            "[ ] pykeops\n",
            "[ ] whisper\n",
            "[ ] RawNet3\n",
            "[ ] reazonspeech\n",
            "[ ] muskits\n",
            "\n",
            "Executables:\n",
            "[x] sclite\n",
            "[x] sph2pipe\n",
            "[ ] PESQ\n",
            "[ ] BeamformIt\n",
            "[x] spm_train\n",
            "[x] spm_encode\n",
            "[x] spm_decode\n",
            "[x] sox=14.4.2\n",
            "[x] ffmpeg=4.4.2-0ubuntu0.22.04.1\n",
            "[x] flac=1.3.4\n",
            "[x] cmake=3.25.2\n",
            "[ ] Kaldi\n",
            "\n",
            "INFO:\n",
            "Use 'installers/install_warp-transducer.sh' to install warprnnt_pytorch\n",
            "Use 'installers/install_chainer_ctc.sh' to install chainer_ctc\n",
            "Use 'installers/install_pyopenjtalk.sh' to install pyopenjtalk\n",
            "Use 'installers/install_tdmelodic_pyopenjtalk.sh' to install tdmelodic_pyopenjtalk\n",
            "Use 'installers/install_kenlm.sh' to install kenlm\n",
            "Use 'installers/install_py3mmseg.sh' to install mmseg\n",
            "Use 'installers/install_fairseq.sh' to install fairseq\n",
            "Use 'installers/install_phonemizer.sh' to install phonemizer\n",
            "Use 'installers/install_gtn.sh' to install gtn\n",
            "Use 'installers/install_s3prl.sh' to install s3prl\n",
            "Use 'installers/install_transformers.sh' to install transformers\n",
            "Use 'installers/install_speechbrain.sh' to install speechbrain\n",
            "Use 'installers/install_k2.sh' to install k2\n",
            "Use 'installers/install_longformer.sh' to install longformer\n",
            "Use 'installers/install_longformer.sh' to install nlg-eval\n",
            "Use 'installers/install_longformer.sh' to install datasets\n",
            "Use 'installers/install_cauchy_mult.sh' to install pykeops\n",
            "Use 'installers/install_whisper.sh' to install whisper\n",
            "Use 'installers/install_rawnet.sh' to install RawNet3\n",
            "Use 'installers/install_reazonspeech.sh' to install reazonspeech\n",
            "Use 'installers/install_muskits.sh' to install muskits\n",
            "Use 'installers/install_pesq.sh' to install PESQ\n",
            "Use 'installers/install_beamformit.sh' to install BeamformIt\n",
            "Type 'git clone --depth 1 https://github.com/kaldi-asr/kaldi' and see 'kaldi/tools/INSTALL' to install Kaldi\n"
          ]
        }
      ]
    },
    {
      "cell_type": "code",
      "source": [
        "!. ./activate_python.sh; python3 check_install.py"
      ],
      "metadata": {
        "colab": {
          "base_uri": "https://localhost:8080/"
        },
        "id": "yrZfURgO8EsN",
        "outputId": "49902665-d995-41c6-c636-383ac8352f04"
      },
      "execution_count": 9,
      "outputs": [
        {
          "output_type": "stream",
          "name": "stdout",
          "text": [
            "[x] python=3.8.17 | packaged by conda-forge | (default, Jun 16 2023, 07:06:00)  [GCC 11.4.0]\n",
            "\n",
            "Python modules:\n",
            "[x] torch=1.13.1\n",
            "[ ] torch cuda\n",
            "[x] torch cudnn=8500\n",
            "[x] torch nccl\n",
            "[x] chainer=6.0.0\n",
            "[ ] chainer cuda\n",
            "[ ] chainer cudnn\n",
            "[ ] cupy\n",
            "[x] torchaudio=0.13.1\n",
            "[x] torch_optimizer=0.3.0\n",
            "[ ] warprnnt_pytorch\n",
            "[ ] chainer_ctc\n",
            "[ ] pyopenjtalk\n",
            "[ ] tdmelodic_pyopenjtalk\n",
            "[ ] kenlm\n",
            "[ ] mmseg\n",
            "[x] espnet=202304\n",
            "[x] numpy=1.23.5\n",
            "[ ] fairseq\n",
            "[ ] phonemizer\n",
            "[ ] gtn\n",
            "[ ] s3prl\n",
            "[ ] transformers\n",
            "[ ] speechbrain\n",
            "[ ] k2\n",
            "[ ] longformer\n",
            "[ ] nlg-eval\n",
            "[ ] datasets\n",
            "[ ] pykeops\n",
            "[ ] whisper\n",
            "[ ] RawNet3\n",
            "[ ] reazonspeech\n",
            "[ ] muskits\n",
            "\n",
            "Executables:\n",
            "[ ] sclite\n",
            "[ ] sph2pipe\n",
            "[ ] PESQ\n",
            "[ ] BeamformIt\n",
            "[ ] spm_train\n",
            "[ ] spm_encode\n",
            "[ ] spm_decode\n",
            "[x] sox=14.4.2\n",
            "[x] ffmpeg=4.4.2-0ubuntu0.22.04.1\n",
            "[x] flac=1.3.4\n",
            "[x] cmake=3.25.2\n",
            "[ ] Kaldi\n",
            "\n",
            "INFO:\n",
            "Use 'installers/install_warp-transducer.sh' to install warprnnt_pytorch\n",
            "Use 'installers/install_chainer_ctc.sh' to install chainer_ctc\n",
            "Use 'installers/install_pyopenjtalk.sh' to install pyopenjtalk\n",
            "Use 'installers/install_tdmelodic_pyopenjtalk.sh' to install tdmelodic_pyopenjtalk\n",
            "Use 'installers/install_kenlm.sh' to install kenlm\n",
            "Use 'installers/install_py3mmseg.sh' to install mmseg\n",
            "Use 'installers/install_fairseq.sh' to install fairseq\n",
            "Use 'installers/install_phonemizer.sh' to install phonemizer\n",
            "Use 'installers/install_gtn.sh' to install gtn\n",
            "Use 'installers/install_s3prl.sh' to install s3prl\n",
            "Use 'installers/install_transformers.sh' to install transformers\n",
            "Use 'installers/install_speechbrain.sh' to install speechbrain\n",
            "Use 'installers/install_k2.sh' to install k2\n",
            "Use 'installers/install_longformer.sh' to install longformer\n",
            "Use 'installers/install_longformer.sh' to install nlg-eval\n",
            "Use 'installers/install_longformer.sh' to install datasets\n",
            "Use 'installers/install_cauchy_mult.sh' to install pykeops\n",
            "Use 'installers/install_whisper.sh' to install whisper\n",
            "Use 'installers/install_rawnet.sh' to install RawNet3\n",
            "Use 'installers/install_reazonspeech.sh' to install reazonspeech\n",
            "Use 'installers/install_muskits.sh' to install muskits\n",
            "Use 'installers/install_sctk.sh' to install sclite\n",
            "Use 'installers/install_sph2pipe.sh' to install sph2pipe\n",
            "Use 'installers/install_pesq.sh' to install PESQ\n",
            "Use 'installers/install_beamformit.sh' to install BeamformIt\n",
            "Type 'git clone --depth 1 https://github.com/kaldi-asr/kaldi' and see 'kaldi/tools/INSTALL' to install Kaldi\n"
          ]
        }
      ]
    },
    {
      "cell_type": "code",
      "source": [
        "!source /content/espnet/tools/activate_python.sh && pip install g2pK"
      ],
      "metadata": {
        "colab": {
          "base_uri": "https://localhost:8080/"
        },
        "id": "l2PhNRoG-UXP",
        "outputId": "f59b77df-80fc-481e-adba-277cbf59b560"
      },
      "execution_count": 10,
      "outputs": [
        {
          "output_type": "stream",
          "name": "stdout",
          "text": [
            "Requirement already satisfied: g2pK in ./anaconda/envs/espnet/lib/python3.8/site-packages (0.9.4)\n",
            "Requirement already satisfied: jamo in ./anaconda/envs/espnet/lib/python3.8/site-packages (from g2pK) (0.4.1)\n",
            "Requirement already satisfied: nltk in ./anaconda/envs/espnet/lib/python3.8/site-packages (from g2pK) (3.8.1)\n",
            "Requirement already satisfied: konlpy in ./anaconda/envs/espnet/lib/python3.8/site-packages (from g2pK) (0.6.0)\n",
            "Requirement already satisfied: python-mecab-ko in ./anaconda/envs/espnet/lib/python3.8/site-packages (from g2pK) (1.3.3)\n",
            "Requirement already satisfied: JPype1>=0.7.0 in ./anaconda/envs/espnet/lib/python3.8/site-packages (from konlpy->g2pK) (1.4.1)\n",
            "Requirement already satisfied: lxml>=4.1.0 in ./anaconda/envs/espnet/lib/python3.8/site-packages (from konlpy->g2pK) (4.9.3)\n",
            "Requirement already satisfied: numpy>=1.6 in ./anaconda/envs/espnet/lib/python3.8/site-packages (from konlpy->g2pK) (1.23.5)\n",
            "Requirement already satisfied: click in ./anaconda/envs/espnet/lib/python3.8/site-packages (from nltk->g2pK) (8.1.6)\n",
            "Requirement already satisfied: joblib in ./anaconda/envs/espnet/lib/python3.8/site-packages (from nltk->g2pK) (1.3.1)\n",
            "Requirement already satisfied: regex>=2021.8.3 in ./anaconda/envs/espnet/lib/python3.8/site-packages (from nltk->g2pK) (2023.6.3)\n",
            "Requirement already satisfied: tqdm in ./anaconda/envs/espnet/lib/python3.8/site-packages (from nltk->g2pK) (4.65.0)\n",
            "Requirement already satisfied: python-mecab-ko-dic in ./anaconda/envs/espnet/lib/python3.8/site-packages (from python-mecab-ko->g2pK) (2.1.1.post2)\n",
            "Requirement already satisfied: packaging in ./anaconda/envs/espnet/lib/python3.8/site-packages (from JPype1>=0.7.0->konlpy->g2pK) (23.0)\n",
            "\u001b[33mWARNING: Running pip as the 'root' user can result in broken permissions and conflicting behaviour with the system package manager. It is recommended to use a virtual environment instead: https://pip.pypa.io/warnings/venv\u001b[0m\u001b[33m\n",
            "\u001b[0m"
          ]
        }
      ]
    },
    {
      "cell_type": "code",
      "source": [
        "%cd /content/espnet/egs2/kss/tts1/"
      ],
      "metadata": {
        "colab": {
          "base_uri": "https://localhost:8080/"
        },
        "id": "bYZO0jCy-fql",
        "outputId": "cf812fe8-9149-49ae-c1ad-daf2cb72636f"
      },
      "execution_count": 11,
      "outputs": [
        {
          "output_type": "stream",
          "name": "stdout",
          "text": [
            "/content/espnet/egs2/kss/tts1\n"
          ]
        }
      ]
    },
    {
      "cell_type": "markdown",
      "source": [
        "# 경로 설정"
      ],
      "metadata": {
        "id": "g2evKu1p-jqo"
      }
    },
    {
      "cell_type": "markdown",
      "source": [
        "KSS dataset 경로 설정"
      ],
      "metadata": {
        "id": "hDYK91eLAqc6"
      }
    },
    {
      "cell_type": "code",
      "source": [
        "KSS= '/content/drive/My Drive/DaddyPeak/Tacotron2/archive/kss/'"
      ],
      "metadata": {
        "id": "wla6eeTU-fgZ"
      },
      "execution_count": 12,
      "outputs": []
    },
    {
      "cell_type": "markdown",
      "source": [
        "결과물 경로 설정"
      ],
      "metadata": {
        "id": "njrmW6UeAldL"
      }
    },
    {
      "cell_type": "code",
      "source": [
        "expdir= '/content/drive/My Drive/DaddyPeak/Tacotron2/result/'"
      ],
      "metadata": {
        "id": "0jjKoyTH-fX8"
      },
      "execution_count": 13,
      "outputs": []
    },
    {
      "cell_type": "markdown",
      "source": [
        "dump 경로 설정"
      ],
      "metadata": {
        "id": "I-7llGQIAn0V"
      }
    },
    {
      "cell_type": "code",
      "source": [
        "dumpdir= '/content/drive/My Drive/DaddyPeak/Tacotron2/dump/'"
      ],
      "metadata": {
        "id": "CDd1yJXQ-n6p"
      },
      "execution_count": 14,
      "outputs": []
    },
    {
      "cell_type": "markdown",
      "source": [
        "# 훈련"
      ],
      "metadata": {
        "id": "jLAFZsiX-pyh"
      }
    },
    {
      "cell_type": "markdown",
      "source": [
        "훈련 파라미터 설정"
      ],
      "metadata": {
        "id": "CfWeNQY6Av-w"
      }
    },
    {
      "cell_type": "code",
      "source": [
        "# Run with the following command for tacotron2:\n",
        "! ./run.sh \\\n",
        "    --fs 44100 \\\n",
        "    --fmin 80 \\\n",
        "    --fmax 22050 \\\n",
        "    --n_mels 120 \\\n",
        "    --n_fft 2048 \\\n",
        "    --n_shift 512 \\\n",
        "    --win_length 2048 \\\n",
        "    --train_config conf/tuning/train_tacotron2.yaml \\\n",
        "    --inference_config conf/tuning/decode_tacotron2.yaml \\\n",
        "    --token_type phn \\\n",
        "    --g2p korean_jaso \\\n",
        "    --cleaner korean_cleaner \\\n",
        "    --expdir '/content/drive/My Drive/DaddyPeak/Tacotron2/result/' \\\n",
        "    --dumpdir '/content/drive/My Drive/DaddyPeak/Tacotron2/dump/'"
      ],
      "metadata": {
        "colab": {
          "base_uri": "https://localhost:8080/"
        },
        "id": "-RJQhv7g-t3v",
        "outputId": "051bd4df-7c9c-4015-8c42-0a4f51dc38a6"
      },
      "execution_count": 24,
      "outputs": [
        {
          "output_type": "stream",
          "name": "stdout",
          "text": [
            "2023-07-30T10:48:03 (tts.sh:211:main) ./tts.sh --tts_task tts --feats_extract fbank --feats_normalize global_mvn --local_data_opts  --text_format raw --audio_format wav --lang ko --feats_type raw --fs 24000 --n_fft 2048 --n_shift 300 --win_length 1200 --token_type phn --cleaner none --g2p g2pk_no_space --train_config conf/train.yaml --inference_config conf/decode.yaml --train_set tr_no_dev --valid_set dev --test_sets dev eval1 --srctexts data/tr_no_dev/text --fs 44100 --fmin 80 --fmax 22050 --n_mels 120 --n_fft 2048 --n_shift 512 --win_length 2048 --train_config conf/tuning/train_tacotron2.yaml --inference_config conf/tuning/decode_tacotron2.yaml --token_type phn --g2p korean_jaso --cleaner korean_cleaner --expdir /content/drive/My Drive/DaddyPeak/Tacotron2/result/ --dumpdir /content/drive/My Drive/DaddyPeak/Tacotron2/dump/\n",
            "2023-07-30T10:48:05 (tts.sh:307:main) Stage 1: Data preparation for data/tr_no_dev, data/dev, etc.\n",
            "2023-07-30T10:48:05 (data.sh:23:main) local/data.sh --text_format raw\n",
            "2023-07-30T10:48:07 (data.sh:40:main) Fill the value of 'KSS' of db.sh\n"
          ]
        }
      ]
    },
    {
      "cell_type": "code",
      "source": [
        "!./run.sh"
      ],
      "metadata": {
        "colab": {
          "base_uri": "https://localhost:8080/"
        },
        "id": "xwPpCbAj-pmw",
        "outputId": "d0a873a7-2b85-4a9b-a62d-91910bf4eb60"
      },
      "execution_count": 25,
      "outputs": [
        {
          "output_type": "stream",
          "name": "stdout",
          "text": [
            "2023-07-30T10:48:10 (tts.sh:211:main) ./tts.sh --tts_task tts --feats_extract fbank --feats_normalize global_mvn --local_data_opts  --text_format raw --audio_format wav --lang ko --feats_type raw --fs 24000 --n_fft 2048 --n_shift 300 --win_length 1200 --token_type phn --cleaner none --g2p g2pk_no_space --train_config conf/train.yaml --inference_config conf/decode.yaml --train_set tr_no_dev --valid_set dev --test_sets dev eval1 --srctexts data/tr_no_dev/text\n",
            "2023-07-30T10:48:11 (tts.sh:307:main) Stage 1: Data preparation for data/tr_no_dev, data/dev, etc.\n",
            "2023-07-30T10:48:11 (data.sh:23:main) local/data.sh --text_format raw\n",
            "2023-07-30T10:48:12 (data.sh:40:main) Fill the value of 'KSS' of db.sh\n"
          ]
        }
      ]
    },
    {
      "cell_type": "code",
      "source": [
        "!./run.sh --stage 6 \\\n",
        "    --fs 44100 \\\n",
        "    --fmin 80 \\\n",
        "    --fmax 22050 \\\n",
        "    --n_mels 120 \\\n",
        "    ..."
      ],
      "metadata": {
        "colab": {
          "base_uri": "https://localhost:8080/"
        },
        "id": "ni5gX8NI-umT",
        "outputId": "c09a58d4-c0ca-4518-f495-bb85eea3b49a"
      },
      "execution_count": 26,
      "outputs": [
        {
          "output_type": "stream",
          "name": "stdout",
          "text": [
            "2023-07-30T10:48:24 (tts.sh:211:main) ./tts.sh --tts_task tts --feats_extract fbank --feats_normalize global_mvn --local_data_opts  --text_format raw --audio_format wav --lang ko --feats_type raw --fs 24000 --n_fft 2048 --n_shift 300 --win_length 1200 --token_type phn --cleaner none --g2p g2pk_no_space --train_config conf/train.yaml --inference_config conf/decode.yaml --train_set tr_no_dev --valid_set dev --test_sets dev eval1 --srctexts data/tr_no_dev/text --stage 6 --fs 44100 --fmin 80 --fmax 22050 --n_mels 120 ...\n",
            "2023-07-30T10:48:24 (tts.sh:217:main) Usage: ./tts.sh --train-set \"<train_set_name>\" --valid-set \"<valid_set_name>\" --test_sets \"<test_set_names>\" --srctexts \"<srctexts>\"\n",
            "\n",
            "Options:\n",
            "    # General configuration\n",
            "    --stage          # Processes starts from the specified stage (default=\"1\").\n",
            "    --stop_stage     # Processes is stopped at the specified stage (default=\"10000\").\n",
            "    --skip_data_prep # Skip data preparation stages (default=\"false\").\n",
            "    --skip_train     # Skip training stages (default=\"false\").\n",
            "    --skip_eval      # Skip decoding and evaluation stages (default=\"false\").\n",
            "    --skip_upload    # Skip packing and uploading stages (default=\"true\").\n",
            "    --ngpu           # The number of gpus (\"0\" uses cpu, otherwise use gpu, default=\"1\").\n",
            "    --num_nodes      # The number of nodes (default=\"1\").\n",
            "    --nj             # The number of parallel jobs (default=\"32\").\n",
            "    --inference_nj   # The number of parallel jobs in decoding (default=\"32\").\n",
            "    --gpu_inference  # Whether to perform gpu decoding (default=\"false\").\n",
            "    --dumpdir        # Directory to dump features (default=\"dump\").\n",
            "    --expdir         # Directory to save experiments (default=\"exp\").\n",
            "    --python         # Specify python to execute espnet commands (default=\"python3\").\n",
            "\n",
            "    # Data prep related\n",
            "    --local_data_opts # Options to be passed to local/data.sh (default=\"\").\n",
            "\n",
            "    # Feature extraction related\n",
            "    --feats_type       # Feature type (default=\"raw\").\n",
            "    --audio_format     # Audio format: wav, flac, wav.ark, flac.ark  (only in feats_type=raw, default=\"flac\").\n",
            "    --min_wav_duration # Minimum duration in second (default=\"0.1\").\n",
            "    --max_wav_duration # Maximum duration in second (default=\"20\").\n",
            "    --use_xvector      # Whether to use X-vector (default=\"false\").\n",
            "    --xvector_tool     # Toolkit for generating the X-vectors (default=\"kaldi\").\n",
            "    --xvector_model    # Pretrained model to generate the X-vectors (default=\"speechbrain/spkrec-ecapa-voxceleb\").\n",
            "    --use_sid          # Whether to use speaker id as the inputs (default=\"false\").\n",
            "    --use_lid          # Whether to use language id as the inputs (default=\"false\").\n",
            "    --feats_extract    # On the fly feature extractor (default=\"fbank\").\n",
            "    --feats_normalize  # Feature normalizer for on the fly feature extractor (default=\"global_mvn\")\n",
            "    --fs               # Sampling rate (default=\"16000\").\n",
            "    --fmax             # Maximum frequency of Mel basis (default=\"7600\").\n",
            "    --fmin             # Minimum frequency of Mel basis (default=\"80\").\n",
            "    --n_mels           # The number of mel basis (default=\"80\").\n",
            "    --n_fft            # The number of fft points (default=\"1024\").\n",
            "    --n_shift          # The number of shift points (default=\"256\").\n",
            "    --win_length       # Window length (default=\"null\").\n",
            "    --f0min            # Maximum f0 for pitch extraction (default=\"80\").\n",
            "    --f0max            # Minimum f0 for pitch extraction (default=\"400\").\n",
            "    --oov              # Out of vocabrary symbol (default=\"<unk>\").\n",
            "    --blank            # CTC blank symbol (default=\"<blank>\").\n",
            "    --sos_eos          # sos and eos symbole (default=\"<sos/eos>\").\n",
            "\n",
            "    # Training related\n",
            "    --train_config  # Config for training (default=\"\").\n",
            "    --train_args    # Arguments for training (default=\"\").\n",
            "                    # e.g., --train_args \"--max_epoch 1\"\n",
            "                    # Note that it will overwrite args in train config.\n",
            "    --tag           # Suffix for training directory (default=\"\").\n",
            "    --tts_exp       # Specify the directory path for experiment.\n",
            "                    # If this option is specified, tag is ignored (default=\"\").\n",
            "    --tts_stats_dir # Specify the directory path for statistics.\n",
            "                    # If empty, automatically decided (default=\"\").\n",
            "    --num_splits    # Number of splitting for tts corpus (default=\"1\").\n",
            "    --teacher_dumpdir       # Directory of teacher outputs (needed if tts=fastspeech, default=\"\").\n",
            "    --write_collected_feats # Whether to dump features in statistics collection (default=\"false\").\n",
            "    --tts_task              # TTS task {tts or gan_tts} (default=\"tts\").\n",
            "\n",
            "    # Decoding related\n",
            "    --inference_config  # Config for decoding (default=\"\").\n",
            "    --inference_args    # Arguments for decoding, (default=\"\").\n",
            "                        # e.g., --inference_args \"--threshold 0.75\"\n",
            "                        # Note that it will overwrite args in inference config.\n",
            "    --inference_tag     # Suffix for decoding directory (default=\"\").\n",
            "    --inference_model   # Model path for decoding (default=train.loss.ave.pth).\n",
            "    --vocoder_file      # Vocoder paramemter file (default=none).\n",
            "                        # If set to none, Griffin-Lim vocoder will be used.\n",
            "    --download_model    # Download a model from Model Zoo and use it for decoding (default=\"\").\n",
            "\n",
            "    # [Task dependent] Set the datadir name created by local/data.sh.\n",
            "    --train_set          # Name of training set (required).\n",
            "    --valid_set          # Name of validation set used for monitoring/tuning network training (required).\n",
            "    --test_sets          # Names of test sets (required).\n",
            "                         # Note that multiple items (e.g., both dev and eval sets) can be specified.\n",
            "    --srctexts           # Texts to create token list (required).\n",
            "                         # Note that multiple items can be specified.\n",
            "    --nlsyms_txt         # Non-linguistic symbol list (default=\"none\").\n",
            "    --token_type         # Transcription type (default=\"phn\").\n",
            "    --cleaner            # Text cleaner (default=\"tacotron\").\n",
            "    --g2p                # g2p method (default=\"g2p_en\").\n",
            "    --lang               # The language type of corpus (default=\"noinfo\").\n",
            "    --text_fold_length   # Fold length for text data (default=\"150\").\n",
            "    --speech_fold_length # Fold length for speech data (default=\"800\").\n",
            "2023-07-30T10:48:24 (tts.sh:218:main) Error: No positional arguments are required.\n"
          ]
        }
      ]
    },
    {
      "cell_type": "code",
      "source": [
        "!pip install espnet_model_zoo\n",
        "!pip install noisereduce\n",
        "!pip install --upgrade parallel_wavegan==0.5.4"
      ],
      "metadata": {
        "colab": {
          "base_uri": "https://localhost:8080/"
        },
        "id": "586JA2Ao-txb",
        "outputId": "89b447a8-1791-408f-f863-cfbe5bd4f263"
      },
      "execution_count": 20,
      "outputs": [
        {
          "output_type": "stream",
          "name": "stdout",
          "text": [
            "Requirement already satisfied: espnet_model_zoo in /usr/local/lib/python3.10/dist-packages (0.1.7)\n",
            "Requirement already satisfied: pandas in /usr/local/lib/python3.10/dist-packages (from espnet_model_zoo) (1.5.3)\n",
            "Requirement already satisfied: requests in /usr/local/lib/python3.10/dist-packages (from espnet_model_zoo) (2.27.1)\n",
            "Requirement already satisfied: tqdm in /usr/local/lib/python3.10/dist-packages (from espnet_model_zoo) (4.65.0)\n",
            "Requirement already satisfied: numpy in /usr/local/lib/python3.10/dist-packages (from espnet_model_zoo) (1.22.4)\n",
            "Requirement already satisfied: espnet in /content/espnet (from espnet_model_zoo) (202304)\n",
            "Requirement already satisfied: huggingface-hub in /usr/local/lib/python3.10/dist-packages (from espnet_model_zoo) (0.16.4)\n",
            "Requirement already satisfied: filelock in /usr/local/lib/python3.10/dist-packages (from espnet_model_zoo) (3.12.2)\n",
            "Requirement already satisfied: setuptools>=38.5.1 in /usr/local/lib/python3.10/dist-packages (from espnet->espnet_model_zoo) (67.7.2)\n",
            "Requirement already satisfied: packaging in /usr/local/lib/python3.10/dist-packages (from espnet->espnet_model_zoo) (23.1)\n",
            "Requirement already satisfied: configargparse>=1.2.1 in /usr/local/lib/python3.10/dist-packages (from espnet->espnet_model_zoo) (1.7)\n",
            "Requirement already satisfied: typeguard==2.13.3 in /usr/local/lib/python3.10/dist-packages (from espnet->espnet_model_zoo) (2.13.3)\n",
            "Requirement already satisfied: humanfriendly in /usr/local/lib/python3.10/dist-packages (from espnet->espnet_model_zoo) (10.0)\n",
            "Requirement already satisfied: scipy>=1.4.1 in /usr/local/lib/python3.10/dist-packages (from espnet->espnet_model_zoo) (1.10.1)\n",
            "Requirement already satisfied: librosa==0.9.2 in /usr/local/lib/python3.10/dist-packages (from espnet->espnet_model_zoo) (0.9.2)\n",
            "Requirement already satisfied: jamo==0.4.1 in /usr/local/lib/python3.10/dist-packages (from espnet->espnet_model_zoo) (0.4.1)\n",
            "Requirement already satisfied: PyYAML>=5.1.2 in /usr/local/lib/python3.10/dist-packages (from espnet->espnet_model_zoo) (6.0.1)\n",
            "Requirement already satisfied: soundfile>=0.10.2 in /usr/local/lib/python3.10/dist-packages (from espnet->espnet_model_zoo) (0.12.1)\n",
            "Requirement already satisfied: h5py>=2.10.0 in /usr/local/lib/python3.10/dist-packages (from espnet->espnet_model_zoo) (3.8.0)\n",
            "Requirement already satisfied: kaldiio>=2.18.0 in /usr/local/lib/python3.10/dist-packages (from espnet->espnet_model_zoo) (2.18.0)\n",
            "Requirement already satisfied: torch>=1.3.0 in /usr/local/lib/python3.10/dist-packages (from espnet->espnet_model_zoo) (2.0.1+cu118)\n",
            "Requirement already satisfied: torch_complex in /usr/local/lib/python3.10/dist-packages (from espnet->espnet_model_zoo) (0.4.3)\n",
            "Requirement already satisfied: nltk>=3.4.5 in /usr/local/lib/python3.10/dist-packages (from espnet->espnet_model_zoo) (3.8.1)\n",
            "Requirement already satisfied: protobuf<=3.20.1 in /usr/local/lib/python3.10/dist-packages (from espnet->espnet_model_zoo) (3.20.1)\n",
            "Requirement already satisfied: hydra-core in /usr/local/lib/python3.10/dist-packages (from espnet->espnet_model_zoo) (1.3.2)\n",
            "Requirement already satisfied: opt-einsum in /usr/local/lib/python3.10/dist-packages (from espnet->espnet_model_zoo) (3.3.0)\n",
            "Requirement already satisfied: sentencepiece==0.1.97 in /usr/local/lib/python3.10/dist-packages (from espnet->espnet_model_zoo) (0.1.97)\n",
            "Requirement already satisfied: ctc-segmentation>=1.6.6 in /usr/local/lib/python3.10/dist-packages (from espnet->espnet_model_zoo) (1.7.4)\n",
            "Requirement already satisfied: pyworld>=0.3.4 in /usr/local/lib/python3.10/dist-packages (from espnet->espnet_model_zoo) (0.3.4)\n",
            "Requirement already satisfied: pypinyin<=0.44.0 in /usr/local/lib/python3.10/dist-packages (from espnet->espnet_model_zoo) (0.44.0)\n",
            "Requirement already satisfied: espnet_tts_frontend in /usr/local/lib/python3.10/dist-packages (from espnet->espnet_model_zoo) (0.0.3)\n",
            "Requirement already satisfied: ci_sdr in /usr/local/lib/python3.10/dist-packages (from espnet->espnet_model_zoo) (0.0.2)\n",
            "Requirement already satisfied: pytorch_wpe in /usr/local/lib/python3.10/dist-packages (from espnet->espnet_model_zoo) (0.0.1)\n",
            "Requirement already satisfied: fast-bss-eval==0.1.3 in /usr/local/lib/python3.10/dist-packages (from espnet->espnet_model_zoo) (0.1.3)\n",
            "Requirement already satisfied: asteroid_filterbanks==0.4.0 in /usr/local/lib/python3.10/dist-packages (from espnet->espnet_model_zoo) (0.4.0)\n",
            "Requirement already satisfied: editdistance in /usr/local/lib/python3.10/dist-packages (from espnet->espnet_model_zoo) (0.6.2)\n",
            "Requirement already satisfied: importlib-metadata<5.0 in /usr/lib/python3/dist-packages (from espnet->espnet_model_zoo) (4.6.4)\n",
            "Requirement already satisfied: typing-extensions in /usr/local/lib/python3.10/dist-packages (from asteroid_filterbanks==0.4.0->espnet->espnet_model_zoo) (4.7.1)\n",
            "Requirement already satisfied: audioread>=2.1.9 in /usr/local/lib/python3.10/dist-packages (from librosa==0.9.2->espnet->espnet_model_zoo) (3.0.0)\n",
            "Requirement already satisfied: scikit-learn>=0.19.1 in /usr/local/lib/python3.10/dist-packages (from librosa==0.9.2->espnet->espnet_model_zoo) (1.2.2)\n",
            "Requirement already satisfied: joblib>=0.14 in /usr/local/lib/python3.10/dist-packages (from librosa==0.9.2->espnet->espnet_model_zoo) (1.3.1)\n",
            "Requirement already satisfied: decorator>=4.0.10 in /usr/local/lib/python3.10/dist-packages (from librosa==0.9.2->espnet->espnet_model_zoo) (4.4.2)\n",
            "Requirement already satisfied: resampy>=0.2.2 in /usr/local/lib/python3.10/dist-packages (from librosa==0.9.2->espnet->espnet_model_zoo) (0.4.2)\n",
            "Requirement already satisfied: numba>=0.45.1 in /usr/local/lib/python3.10/dist-packages (from librosa==0.9.2->espnet->espnet_model_zoo) (0.56.4)\n",
            "Requirement already satisfied: pooch>=1.0 in /usr/local/lib/python3.10/dist-packages (from librosa==0.9.2->espnet->espnet_model_zoo) (1.6.0)\n",
            "Requirement already satisfied: fsspec in /usr/local/lib/python3.10/dist-packages (from huggingface-hub->espnet_model_zoo) (2023.6.0)\n",
            "Requirement already satisfied: python-dateutil>=2.8.1 in /usr/local/lib/python3.10/dist-packages (from pandas->espnet_model_zoo) (2.8.2)\n",
            "Requirement already satisfied: pytz>=2020.1 in /usr/local/lib/python3.10/dist-packages (from pandas->espnet_model_zoo) (2022.7.1)\n",
            "Requirement already satisfied: urllib3<1.27,>=1.21.1 in /usr/local/lib/python3.10/dist-packages (from requests->espnet_model_zoo) (1.26.16)\n",
            "Requirement already satisfied: certifi>=2017.4.17 in /usr/local/lib/python3.10/dist-packages (from requests->espnet_model_zoo) (2023.7.22)\n",
            "Requirement already satisfied: charset-normalizer~=2.0.0 in /usr/local/lib/python3.10/dist-packages (from requests->espnet_model_zoo) (2.0.12)\n",
            "Requirement already satisfied: idna<4,>=2.5 in /usr/local/lib/python3.10/dist-packages (from requests->espnet_model_zoo) (3.4)\n",
            "Requirement already satisfied: Cython in /usr/local/lib/python3.10/dist-packages (from ctc-segmentation>=1.6.6->espnet->espnet_model_zoo) (0.29.36)\n",
            "Requirement already satisfied: click in /usr/local/lib/python3.10/dist-packages (from nltk>=3.4.5->espnet->espnet_model_zoo) (8.1.6)\n",
            "Requirement already satisfied: regex>=2021.8.3 in /usr/local/lib/python3.10/dist-packages (from nltk>=3.4.5->espnet->espnet_model_zoo) (2022.10.31)\n",
            "Requirement already satisfied: six>=1.5 in /usr/local/lib/python3.10/dist-packages (from python-dateutil>=2.8.1->pandas->espnet_model_zoo) (1.16.0)\n",
            "Requirement already satisfied: cffi>=1.0 in /usr/local/lib/python3.10/dist-packages (from soundfile>=0.10.2->espnet->espnet_model_zoo) (1.15.1)\n",
            "Requirement already satisfied: sympy in /usr/local/lib/python3.10/dist-packages (from torch>=1.3.0->espnet->espnet_model_zoo) (1.11.1)\n",
            "Requirement already satisfied: networkx in /usr/local/lib/python3.10/dist-packages (from torch>=1.3.0->espnet->espnet_model_zoo) (3.1)\n",
            "Requirement already satisfied: jinja2 in /usr/local/lib/python3.10/dist-packages (from torch>=1.3.0->espnet->espnet_model_zoo) (3.1.2)\n",
            "Requirement already satisfied: triton==2.0.0 in /usr/local/lib/python3.10/dist-packages (from torch>=1.3.0->espnet->espnet_model_zoo) (2.0.0)\n",
            "Requirement already satisfied: cmake in /usr/local/lib/python3.10/dist-packages (from triton==2.0.0->torch>=1.3.0->espnet->espnet_model_zoo) (3.25.2)\n",
            "Requirement already satisfied: lit in /usr/local/lib/python3.10/dist-packages (from triton==2.0.0->torch>=1.3.0->espnet->espnet_model_zoo) (16.0.6)\n",
            "Requirement already satisfied: einops in /usr/local/lib/python3.10/dist-packages (from ci_sdr->espnet->espnet_model_zoo) (0.6.1)\n",
            "Requirement already satisfied: unidecode>=1.0.22 in /usr/local/lib/python3.10/dist-packages (from espnet_tts_frontend->espnet->espnet_model_zoo) (1.3.6)\n",
            "Requirement already satisfied: inflect>=1.0.0 in /usr/local/lib/python3.10/dist-packages (from espnet_tts_frontend->espnet->espnet_model_zoo) (6.0.5)\n",
            "Requirement already satisfied: jaconv in /usr/local/lib/python3.10/dist-packages (from espnet_tts_frontend->espnet->espnet_model_zoo) (0.3.4)\n",
            "Requirement already satisfied: g2p-en in /usr/local/lib/python3.10/dist-packages (from espnet_tts_frontend->espnet->espnet_model_zoo) (2.1.0)\n",
            "Requirement already satisfied: omegaconf<2.4,>=2.2 in /usr/local/lib/python3.10/dist-packages (from hydra-core->espnet->espnet_model_zoo) (2.3.0)\n",
            "Requirement already satisfied: antlr4-python3-runtime==4.9.* in /usr/local/lib/python3.10/dist-packages (from hydra-core->espnet->espnet_model_zoo) (4.9.3)\n",
            "Requirement already satisfied: pycparser in /usr/local/lib/python3.10/dist-packages (from cffi>=1.0->soundfile>=0.10.2->espnet->espnet_model_zoo) (2.21)\n",
            "Requirement already satisfied: pydantic<2,>=1.9.1 in /usr/local/lib/python3.10/dist-packages (from inflect>=1.0.0->espnet_tts_frontend->espnet->espnet_model_zoo) (1.10.12)\n",
            "Requirement already satisfied: llvmlite<0.40,>=0.39.0dev0 in /usr/local/lib/python3.10/dist-packages (from numba>=0.45.1->librosa==0.9.2->espnet->espnet_model_zoo) (0.39.1)\n",
            "Requirement already satisfied: appdirs>=1.3.0 in /usr/local/lib/python3.10/dist-packages (from pooch>=1.0->librosa==0.9.2->espnet->espnet_model_zoo) (1.4.4)\n",
            "Requirement already satisfied: threadpoolctl>=2.0.0 in /usr/local/lib/python3.10/dist-packages (from scikit-learn>=0.19.1->librosa==0.9.2->espnet->espnet_model_zoo) (3.2.0)\n",
            "Requirement already satisfied: distance>=0.1.3 in /usr/local/lib/python3.10/dist-packages (from g2p-en->espnet_tts_frontend->espnet->espnet_model_zoo) (0.1.3)\n",
            "Requirement already satisfied: MarkupSafe>=2.0 in /usr/local/lib/python3.10/dist-packages (from jinja2->torch>=1.3.0->espnet->espnet_model_zoo) (2.1.3)\n",
            "Requirement already satisfied: mpmath>=0.19 in /usr/local/lib/python3.10/dist-packages (from sympy->torch>=1.3.0->espnet->espnet_model_zoo) (1.3.0)\n",
            "Requirement already satisfied: noisereduce in /usr/local/lib/python3.10/dist-packages (2.0.1)\n",
            "Requirement already satisfied: scipy in /usr/local/lib/python3.10/dist-packages (from noisereduce) (1.10.1)\n",
            "Requirement already satisfied: matplotlib in /usr/local/lib/python3.10/dist-packages (from noisereduce) (3.7.1)\n",
            "Requirement already satisfied: librosa in /usr/local/lib/python3.10/dist-packages (from noisereduce) (0.9.2)\n",
            "Requirement already satisfied: numpy in /usr/local/lib/python3.10/dist-packages (from noisereduce) (1.22.4)\n",
            "Requirement already satisfied: tqdm in /usr/local/lib/python3.10/dist-packages (from noisereduce) (4.65.0)\n",
            "Requirement already satisfied: audioread>=2.1.9 in /usr/local/lib/python3.10/dist-packages (from librosa->noisereduce) (3.0.0)\n",
            "Requirement already satisfied: scikit-learn>=0.19.1 in /usr/local/lib/python3.10/dist-packages (from librosa->noisereduce) (1.2.2)\n",
            "Requirement already satisfied: joblib>=0.14 in /usr/local/lib/python3.10/dist-packages (from librosa->noisereduce) (1.3.1)\n",
            "Requirement already satisfied: decorator>=4.0.10 in /usr/local/lib/python3.10/dist-packages (from librosa->noisereduce) (4.4.2)\n",
            "Requirement already satisfied: resampy>=0.2.2 in /usr/local/lib/python3.10/dist-packages (from librosa->noisereduce) (0.4.2)\n",
            "Requirement already satisfied: numba>=0.45.1 in /usr/local/lib/python3.10/dist-packages (from librosa->noisereduce) (0.56.4)\n",
            "Requirement already satisfied: soundfile>=0.10.2 in /usr/local/lib/python3.10/dist-packages (from librosa->noisereduce) (0.12.1)\n",
            "Requirement already satisfied: pooch>=1.0 in /usr/local/lib/python3.10/dist-packages (from librosa->noisereduce) (1.6.0)\n",
            "Requirement already satisfied: packaging>=20.0 in /usr/local/lib/python3.10/dist-packages (from librosa->noisereduce) (23.1)\n",
            "Requirement already satisfied: contourpy>=1.0.1 in /usr/local/lib/python3.10/dist-packages (from matplotlib->noisereduce) (1.1.0)\n",
            "Requirement already satisfied: cycler>=0.10 in /usr/local/lib/python3.10/dist-packages (from matplotlib->noisereduce) (0.11.0)\n",
            "Requirement already satisfied: fonttools>=4.22.0 in /usr/local/lib/python3.10/dist-packages (from matplotlib->noisereduce) (4.41.1)\n",
            "Requirement already satisfied: kiwisolver>=1.0.1 in /usr/local/lib/python3.10/dist-packages (from matplotlib->noisereduce) (1.4.4)\n",
            "Requirement already satisfied: pillow>=6.2.0 in /usr/local/lib/python3.10/dist-packages (from matplotlib->noisereduce) (9.4.0)\n",
            "Requirement already satisfied: pyparsing>=2.3.1 in /usr/local/lib/python3.10/dist-packages (from matplotlib->noisereduce) (3.1.0)\n",
            "Requirement already satisfied: python-dateutil>=2.7 in /usr/local/lib/python3.10/dist-packages (from matplotlib->noisereduce) (2.8.2)\n",
            "Requirement already satisfied: llvmlite<0.40,>=0.39.0dev0 in /usr/local/lib/python3.10/dist-packages (from numba>=0.45.1->librosa->noisereduce) (0.39.1)\n",
            "Requirement already satisfied: setuptools in /usr/local/lib/python3.10/dist-packages (from numba>=0.45.1->librosa->noisereduce) (67.7.2)\n",
            "Requirement already satisfied: appdirs>=1.3.0 in /usr/local/lib/python3.10/dist-packages (from pooch>=1.0->librosa->noisereduce) (1.4.4)\n",
            "Requirement already satisfied: requests>=2.19.0 in /usr/local/lib/python3.10/dist-packages (from pooch>=1.0->librosa->noisereduce) (2.27.1)\n",
            "Requirement already satisfied: six>=1.5 in /usr/local/lib/python3.10/dist-packages (from python-dateutil>=2.7->matplotlib->noisereduce) (1.16.0)\n",
            "Requirement already satisfied: threadpoolctl>=2.0.0 in /usr/local/lib/python3.10/dist-packages (from scikit-learn>=0.19.1->librosa->noisereduce) (3.2.0)\n",
            "Requirement already satisfied: cffi>=1.0 in /usr/local/lib/python3.10/dist-packages (from soundfile>=0.10.2->librosa->noisereduce) (1.15.1)\n",
            "Requirement already satisfied: pycparser in /usr/local/lib/python3.10/dist-packages (from cffi>=1.0->soundfile>=0.10.2->librosa->noisereduce) (2.21)\n",
            "Requirement already satisfied: urllib3<1.27,>=1.21.1 in /usr/local/lib/python3.10/dist-packages (from requests>=2.19.0->pooch>=1.0->librosa->noisereduce) (1.26.16)\n",
            "Requirement already satisfied: certifi>=2017.4.17 in /usr/local/lib/python3.10/dist-packages (from requests>=2.19.0->pooch>=1.0->librosa->noisereduce) (2023.7.22)\n",
            "Requirement already satisfied: charset-normalizer~=2.0.0 in /usr/local/lib/python3.10/dist-packages (from requests>=2.19.0->pooch>=1.0->librosa->noisereduce) (2.0.12)\n",
            "Requirement already satisfied: idna<4,>=2.5 in /usr/local/lib/python3.10/dist-packages (from requests>=2.19.0->pooch>=1.0->librosa->noisereduce) (3.4)\n",
            "Requirement already satisfied: parallel_wavegan==0.5.4 in /usr/local/lib/python3.10/dist-packages (0.5.4)\n",
            "Requirement already satisfied: torch>=1.4 in /usr/local/lib/python3.10/dist-packages (from parallel_wavegan==0.5.4) (2.0.1+cu118)\n",
            "Requirement already satisfied: setuptools>=38.5.1 in /usr/local/lib/python3.10/dist-packages (from parallel_wavegan==0.5.4) (67.7.2)\n",
            "Requirement already satisfied: librosa>=0.8.0 in /usr/local/lib/python3.10/dist-packages (from parallel_wavegan==0.5.4) (0.9.2)\n",
            "Requirement already satisfied: soundfile>=0.10.2 in /usr/local/lib/python3.10/dist-packages (from parallel_wavegan==0.5.4) (0.12.1)\n",
            "Requirement already satisfied: tensorboardX>=1.8 in /usr/local/lib/python3.10/dist-packages (from parallel_wavegan==0.5.4) (2.6.1)\n",
            "Requirement already satisfied: matplotlib>=3.1.0 in /usr/local/lib/python3.10/dist-packages (from parallel_wavegan==0.5.4) (3.7.1)\n",
            "Requirement already satisfied: PyYAML>=3.12 in /usr/local/lib/python3.10/dist-packages (from parallel_wavegan==0.5.4) (6.0.1)\n",
            "Requirement already satisfied: tqdm>=4.26.1 in /usr/local/lib/python3.10/dist-packages (from parallel_wavegan==0.5.4) (4.65.0)\n",
            "Requirement already satisfied: kaldiio>=2.14.1 in /usr/local/lib/python3.10/dist-packages (from parallel_wavegan==0.5.4) (2.18.0)\n",
            "Requirement already satisfied: h5py>=2.9.0 in /usr/local/lib/python3.10/dist-packages (from parallel_wavegan==0.5.4) (3.8.0)\n",
            "Requirement already satisfied: yq>=2.10.0 in /usr/local/lib/python3.10/dist-packages (from parallel_wavegan==0.5.4) (3.2.2)\n",
            "Requirement already satisfied: gdown in /usr/local/lib/python3.10/dist-packages (from parallel_wavegan==0.5.4) (4.6.6)\n",
            "Requirement already satisfied: filelock in /usr/local/lib/python3.10/dist-packages (from parallel_wavegan==0.5.4) (3.12.2)\n",
            "Requirement already satisfied: numpy>=1.14.5 in /usr/local/lib/python3.10/dist-packages (from h5py>=2.9.0->parallel_wavegan==0.5.4) (1.22.4)\n",
            "Requirement already satisfied: audioread>=2.1.9 in /usr/local/lib/python3.10/dist-packages (from librosa>=0.8.0->parallel_wavegan==0.5.4) (3.0.0)\n",
            "Requirement already satisfied: scipy>=1.2.0 in /usr/local/lib/python3.10/dist-packages (from librosa>=0.8.0->parallel_wavegan==0.5.4) (1.10.1)\n",
            "Requirement already satisfied: scikit-learn>=0.19.1 in /usr/local/lib/python3.10/dist-packages (from librosa>=0.8.0->parallel_wavegan==0.5.4) (1.2.2)\n",
            "Requirement already satisfied: joblib>=0.14 in /usr/local/lib/python3.10/dist-packages (from librosa>=0.8.0->parallel_wavegan==0.5.4) (1.3.1)\n",
            "Requirement already satisfied: decorator>=4.0.10 in /usr/local/lib/python3.10/dist-packages (from librosa>=0.8.0->parallel_wavegan==0.5.4) (4.4.2)\n",
            "Requirement already satisfied: resampy>=0.2.2 in /usr/local/lib/python3.10/dist-packages (from librosa>=0.8.0->parallel_wavegan==0.5.4) (0.4.2)\n",
            "Requirement already satisfied: numba>=0.45.1 in /usr/local/lib/python3.10/dist-packages (from librosa>=0.8.0->parallel_wavegan==0.5.4) (0.56.4)\n",
            "Requirement already satisfied: pooch>=1.0 in /usr/local/lib/python3.10/dist-packages (from librosa>=0.8.0->parallel_wavegan==0.5.4) (1.6.0)\n",
            "Requirement already satisfied: packaging>=20.0 in /usr/local/lib/python3.10/dist-packages (from librosa>=0.8.0->parallel_wavegan==0.5.4) (23.1)\n",
            "Requirement already satisfied: contourpy>=1.0.1 in /usr/local/lib/python3.10/dist-packages (from matplotlib>=3.1.0->parallel_wavegan==0.5.4) (1.1.0)\n",
            "Requirement already satisfied: cycler>=0.10 in /usr/local/lib/python3.10/dist-packages (from matplotlib>=3.1.0->parallel_wavegan==0.5.4) (0.11.0)\n",
            "Requirement already satisfied: fonttools>=4.22.0 in /usr/local/lib/python3.10/dist-packages (from matplotlib>=3.1.0->parallel_wavegan==0.5.4) (4.41.1)\n",
            "Requirement already satisfied: kiwisolver>=1.0.1 in /usr/local/lib/python3.10/dist-packages (from matplotlib>=3.1.0->parallel_wavegan==0.5.4) (1.4.4)\n",
            "Requirement already satisfied: pillow>=6.2.0 in /usr/local/lib/python3.10/dist-packages (from matplotlib>=3.1.0->parallel_wavegan==0.5.4) (9.4.0)\n",
            "Requirement already satisfied: pyparsing>=2.3.1 in /usr/local/lib/python3.10/dist-packages (from matplotlib>=3.1.0->parallel_wavegan==0.5.4) (3.1.0)\n",
            "Requirement already satisfied: python-dateutil>=2.7 in /usr/local/lib/python3.10/dist-packages (from matplotlib>=3.1.0->parallel_wavegan==0.5.4) (2.8.2)\n",
            "Requirement already satisfied: cffi>=1.0 in /usr/local/lib/python3.10/dist-packages (from soundfile>=0.10.2->parallel_wavegan==0.5.4) (1.15.1)\n",
            "Collecting protobuf>=4.22.3 (from tensorboardX>=1.8->parallel_wavegan==0.5.4)\n",
            "  Using cached protobuf-4.23.4-cp37-abi3-manylinux2014_x86_64.whl (304 kB)\n",
            "Requirement already satisfied: typing-extensions in /usr/local/lib/python3.10/dist-packages (from torch>=1.4->parallel_wavegan==0.5.4) (4.7.1)\n",
            "Requirement already satisfied: sympy in /usr/local/lib/python3.10/dist-packages (from torch>=1.4->parallel_wavegan==0.5.4) (1.11.1)\n",
            "Requirement already satisfied: networkx in /usr/local/lib/python3.10/dist-packages (from torch>=1.4->parallel_wavegan==0.5.4) (3.1)\n",
            "Requirement already satisfied: jinja2 in /usr/local/lib/python3.10/dist-packages (from torch>=1.4->parallel_wavegan==0.5.4) (3.1.2)\n",
            "Requirement already satisfied: triton==2.0.0 in /usr/local/lib/python3.10/dist-packages (from torch>=1.4->parallel_wavegan==0.5.4) (2.0.0)\n",
            "Requirement already satisfied: cmake in /usr/local/lib/python3.10/dist-packages (from triton==2.0.0->torch>=1.4->parallel_wavegan==0.5.4) (3.25.2)\n",
            "Requirement already satisfied: lit in /usr/local/lib/python3.10/dist-packages (from triton==2.0.0->torch>=1.4->parallel_wavegan==0.5.4) (16.0.6)\n",
            "Requirement already satisfied: xmltodict>=0.11.0 in /usr/local/lib/python3.10/dist-packages (from yq>=2.10.0->parallel_wavegan==0.5.4) (0.13.0)\n",
            "Requirement already satisfied: tomlkit>=0.11.6 in /usr/local/lib/python3.10/dist-packages (from yq>=2.10.0->parallel_wavegan==0.5.4) (0.12.1)\n",
            "Requirement already satisfied: argcomplete>=1.8.1 in /usr/local/lib/python3.10/dist-packages (from yq>=2.10.0->parallel_wavegan==0.5.4) (3.1.1)\n",
            "Requirement already satisfied: requests[socks] in /usr/local/lib/python3.10/dist-packages (from gdown->parallel_wavegan==0.5.4) (2.27.1)\n",
            "Requirement already satisfied: six in /usr/local/lib/python3.10/dist-packages (from gdown->parallel_wavegan==0.5.4) (1.16.0)\n",
            "Requirement already satisfied: beautifulsoup4 in /usr/local/lib/python3.10/dist-packages (from gdown->parallel_wavegan==0.5.4) (4.11.2)\n",
            "Requirement already satisfied: pycparser in /usr/local/lib/python3.10/dist-packages (from cffi>=1.0->soundfile>=0.10.2->parallel_wavegan==0.5.4) (2.21)\n",
            "Requirement already satisfied: llvmlite<0.40,>=0.39.0dev0 in /usr/local/lib/python3.10/dist-packages (from numba>=0.45.1->librosa>=0.8.0->parallel_wavegan==0.5.4) (0.39.1)\n",
            "Requirement already satisfied: appdirs>=1.3.0 in /usr/local/lib/python3.10/dist-packages (from pooch>=1.0->librosa>=0.8.0->parallel_wavegan==0.5.4) (1.4.4)\n",
            "Requirement already satisfied: threadpoolctl>=2.0.0 in /usr/local/lib/python3.10/dist-packages (from scikit-learn>=0.19.1->librosa>=0.8.0->parallel_wavegan==0.5.4) (3.2.0)\n",
            "Requirement already satisfied: soupsieve>1.2 in /usr/local/lib/python3.10/dist-packages (from beautifulsoup4->gdown->parallel_wavegan==0.5.4) (2.4.1)\n",
            "Requirement already satisfied: MarkupSafe>=2.0 in /usr/local/lib/python3.10/dist-packages (from jinja2->torch>=1.4->parallel_wavegan==0.5.4) (2.1.3)\n",
            "Requirement already satisfied: urllib3<1.27,>=1.21.1 in /usr/local/lib/python3.10/dist-packages (from requests[socks]->gdown->parallel_wavegan==0.5.4) (1.26.16)\n",
            "Requirement already satisfied: certifi>=2017.4.17 in /usr/local/lib/python3.10/dist-packages (from requests[socks]->gdown->parallel_wavegan==0.5.4) (2023.7.22)\n",
            "Requirement already satisfied: charset-normalizer~=2.0.0 in /usr/local/lib/python3.10/dist-packages (from requests[socks]->gdown->parallel_wavegan==0.5.4) (2.0.12)\n",
            "Requirement already satisfied: idna<4,>=2.5 in /usr/local/lib/python3.10/dist-packages (from requests[socks]->gdown->parallel_wavegan==0.5.4) (3.4)\n",
            "Requirement already satisfied: PySocks!=1.5.7,>=1.5.6 in /usr/local/lib/python3.10/dist-packages (from requests[socks]->gdown->parallel_wavegan==0.5.4) (1.7.1)\n",
            "Requirement already satisfied: mpmath>=0.19 in /usr/local/lib/python3.10/dist-packages (from sympy->torch>=1.4->parallel_wavegan==0.5.4) (1.3.0)\n",
            "Installing collected packages: protobuf\n",
            "  Attempting uninstall: protobuf\n",
            "    Found existing installation: protobuf 3.20.1\n",
            "    Uninstalling protobuf-3.20.1:\n",
            "      Successfully uninstalled protobuf-3.20.1\n",
            "\u001b[31mERROR: pip's dependency resolver does not currently take into account all the packages that are installed. This behaviour is the source of the following dependency conflicts.\n",
            "espnet 202304 requires protobuf<=3.20.1, but you have protobuf 4.23.4 which is incompatible.\u001b[0m\u001b[31m\n",
            "\u001b[0mSuccessfully installed protobuf-4.23.4\n"
          ]
        }
      ]
    },
    {
      "cell_type": "code",
      "source": [
        "!pip install git+https://github.com/espnet/espnet.git"
      ],
      "metadata": {
        "colab": {
          "base_uri": "https://localhost:8080/",
          "height": 1000
        },
        "id": "fjTRnwgmTB8h",
        "outputId": "b63372eb-92be-4ab1-d4f0-ee20611612a3"
      },
      "execution_count": 21,
      "outputs": [
        {
          "output_type": "stream",
          "name": "stdout",
          "text": [
            "Collecting git+https://github.com/espnet/espnet.git\n",
            "  Cloning https://github.com/espnet/espnet.git to /tmp/pip-req-build-yho6zv4d\n",
            "  Running command git clone --filter=blob:none --quiet https://github.com/espnet/espnet.git /tmp/pip-req-build-yho6zv4d\n",
            "  Resolved https://github.com/espnet/espnet.git to commit a719135834e382e84b560e4ad869eaa3ef37ef09\n",
            "  Running command git submodule update --init --recursive -q\n",
            "  Preparing metadata (setup.py) ... \u001b[?25l\u001b[?25hdone\n",
            "Requirement already satisfied: setuptools>=38.5.1 in /usr/local/lib/python3.10/dist-packages (from espnet==202304) (67.7.2)\n",
            "Requirement already satisfied: packaging in /usr/local/lib/python3.10/dist-packages (from espnet==202304) (23.1)\n",
            "Requirement already satisfied: configargparse>=1.2.1 in /usr/local/lib/python3.10/dist-packages (from espnet==202304) (1.7)\n",
            "Requirement already satisfied: typeguard==2.13.3 in /usr/local/lib/python3.10/dist-packages (from espnet==202304) (2.13.3)\n",
            "Requirement already satisfied: humanfriendly in /usr/local/lib/python3.10/dist-packages (from espnet==202304) (10.0)\n",
            "Requirement already satisfied: scipy>=1.4.1 in /usr/local/lib/python3.10/dist-packages (from espnet==202304) (1.10.1)\n",
            "Requirement already satisfied: filelock in /usr/local/lib/python3.10/dist-packages (from espnet==202304) (3.12.2)\n",
            "Requirement already satisfied: librosa==0.9.2 in /usr/local/lib/python3.10/dist-packages (from espnet==202304) (0.9.2)\n",
            "Requirement already satisfied: jamo==0.4.1 in /usr/local/lib/python3.10/dist-packages (from espnet==202304) (0.4.1)\n",
            "Requirement already satisfied: PyYAML>=5.1.2 in /usr/local/lib/python3.10/dist-packages (from espnet==202304) (6.0.1)\n",
            "Requirement already satisfied: soundfile>=0.10.2 in /usr/local/lib/python3.10/dist-packages (from espnet==202304) (0.12.1)\n",
            "Requirement already satisfied: h5py>=2.10.0 in /usr/local/lib/python3.10/dist-packages (from espnet==202304) (3.8.0)\n",
            "Requirement already satisfied: kaldiio>=2.18.0 in /usr/local/lib/python3.10/dist-packages (from espnet==202304) (2.18.0)\n",
            "Requirement already satisfied: torch>=1.3.0 in /usr/local/lib/python3.10/dist-packages (from espnet==202304) (2.0.1+cu118)\n",
            "Requirement already satisfied: torch_complex in /usr/local/lib/python3.10/dist-packages (from espnet==202304) (0.4.3)\n",
            "Requirement already satisfied: nltk>=3.4.5 in /usr/local/lib/python3.10/dist-packages (from espnet==202304) (3.8.1)\n",
            "Requirement already satisfied: numpy<1.24 in /usr/local/lib/python3.10/dist-packages (from espnet==202304) (1.22.4)\n",
            "Collecting protobuf<=3.20.1 (from espnet==202304)\n",
            "  Using cached protobuf-3.20.1-cp310-cp310-manylinux_2_12_x86_64.manylinux2010_x86_64.whl (1.1 MB)\n",
            "Requirement already satisfied: hydra-core in /usr/local/lib/python3.10/dist-packages (from espnet==202304) (1.3.2)\n",
            "Requirement already satisfied: opt-einsum in /usr/local/lib/python3.10/dist-packages (from espnet==202304) (3.3.0)\n",
            "Requirement already satisfied: sentencepiece==0.1.97 in /usr/local/lib/python3.10/dist-packages (from espnet==202304) (0.1.97)\n",
            "Requirement already satisfied: ctc-segmentation>=1.6.6 in /usr/local/lib/python3.10/dist-packages (from espnet==202304) (1.7.4)\n",
            "Requirement already satisfied: pyworld>=0.3.4 in /usr/local/lib/python3.10/dist-packages (from espnet==202304) (0.3.4)\n",
            "Requirement already satisfied: pypinyin<=0.44.0 in /usr/local/lib/python3.10/dist-packages (from espnet==202304) (0.44.0)\n",
            "Requirement already satisfied: espnet_tts_frontend in /usr/local/lib/python3.10/dist-packages (from espnet==202304) (0.0.3)\n",
            "Requirement already satisfied: ci_sdr in /usr/local/lib/python3.10/dist-packages (from espnet==202304) (0.0.2)\n",
            "Requirement already satisfied: pytorch_wpe in /usr/local/lib/python3.10/dist-packages (from espnet==202304) (0.0.1)\n",
            "Requirement already satisfied: fast-bss-eval==0.1.3 in /usr/local/lib/python3.10/dist-packages (from espnet==202304) (0.1.3)\n",
            "Requirement already satisfied: asteroid_filterbanks==0.4.0 in /usr/local/lib/python3.10/dist-packages (from espnet==202304) (0.4.0)\n",
            "Requirement already satisfied: editdistance in /usr/local/lib/python3.10/dist-packages (from espnet==202304) (0.6.2)\n",
            "Requirement already satisfied: importlib-metadata<5.0 in /usr/lib/python3/dist-packages (from espnet==202304) (4.6.4)\n",
            "Requirement already satisfied: typing-extensions in /usr/local/lib/python3.10/dist-packages (from asteroid_filterbanks==0.4.0->espnet==202304) (4.7.1)\n",
            "Requirement already satisfied: audioread>=2.1.9 in /usr/local/lib/python3.10/dist-packages (from librosa==0.9.2->espnet==202304) (3.0.0)\n",
            "Requirement already satisfied: scikit-learn>=0.19.1 in /usr/local/lib/python3.10/dist-packages (from librosa==0.9.2->espnet==202304) (1.2.2)\n",
            "Requirement already satisfied: joblib>=0.14 in /usr/local/lib/python3.10/dist-packages (from librosa==0.9.2->espnet==202304) (1.3.1)\n",
            "Requirement already satisfied: decorator>=4.0.10 in /usr/local/lib/python3.10/dist-packages (from librosa==0.9.2->espnet==202304) (4.4.2)\n",
            "Requirement already satisfied: resampy>=0.2.2 in /usr/local/lib/python3.10/dist-packages (from librosa==0.9.2->espnet==202304) (0.4.2)\n",
            "Requirement already satisfied: numba>=0.45.1 in /usr/local/lib/python3.10/dist-packages (from librosa==0.9.2->espnet==202304) (0.56.4)\n",
            "Requirement already satisfied: pooch>=1.0 in /usr/local/lib/python3.10/dist-packages (from librosa==0.9.2->espnet==202304) (1.6.0)\n",
            "Requirement already satisfied: Cython in /usr/local/lib/python3.10/dist-packages (from ctc-segmentation>=1.6.6->espnet==202304) (0.29.36)\n",
            "Requirement already satisfied: click in /usr/local/lib/python3.10/dist-packages (from nltk>=3.4.5->espnet==202304) (8.1.6)\n",
            "Requirement already satisfied: regex>=2021.8.3 in /usr/local/lib/python3.10/dist-packages (from nltk>=3.4.5->espnet==202304) (2022.10.31)\n",
            "Requirement already satisfied: tqdm in /usr/local/lib/python3.10/dist-packages (from nltk>=3.4.5->espnet==202304) (4.65.0)\n",
            "Requirement already satisfied: cffi>=1.0 in /usr/local/lib/python3.10/dist-packages (from soundfile>=0.10.2->espnet==202304) (1.15.1)\n",
            "Requirement already satisfied: sympy in /usr/local/lib/python3.10/dist-packages (from torch>=1.3.0->espnet==202304) (1.11.1)\n",
            "Requirement already satisfied: networkx in /usr/local/lib/python3.10/dist-packages (from torch>=1.3.0->espnet==202304) (3.1)\n",
            "Requirement already satisfied: jinja2 in /usr/local/lib/python3.10/dist-packages (from torch>=1.3.0->espnet==202304) (3.1.2)\n",
            "Requirement already satisfied: triton==2.0.0 in /usr/local/lib/python3.10/dist-packages (from torch>=1.3.0->espnet==202304) (2.0.0)\n",
            "Requirement already satisfied: cmake in /usr/local/lib/python3.10/dist-packages (from triton==2.0.0->torch>=1.3.0->espnet==202304) (3.25.2)\n",
            "Requirement already satisfied: lit in /usr/local/lib/python3.10/dist-packages (from triton==2.0.0->torch>=1.3.0->espnet==202304) (16.0.6)\n",
            "Requirement already satisfied: einops in /usr/local/lib/python3.10/dist-packages (from ci_sdr->espnet==202304) (0.6.1)\n",
            "Requirement already satisfied: unidecode>=1.0.22 in /usr/local/lib/python3.10/dist-packages (from espnet_tts_frontend->espnet==202304) (1.3.6)\n",
            "Requirement already satisfied: inflect>=1.0.0 in /usr/local/lib/python3.10/dist-packages (from espnet_tts_frontend->espnet==202304) (6.0.5)\n",
            "Requirement already satisfied: jaconv in /usr/local/lib/python3.10/dist-packages (from espnet_tts_frontend->espnet==202304) (0.3.4)\n",
            "Requirement already satisfied: g2p-en in /usr/local/lib/python3.10/dist-packages (from espnet_tts_frontend->espnet==202304) (2.1.0)\n",
            "Requirement already satisfied: omegaconf<2.4,>=2.2 in /usr/local/lib/python3.10/dist-packages (from hydra-core->espnet==202304) (2.3.0)\n",
            "Requirement already satisfied: antlr4-python3-runtime==4.9.* in /usr/local/lib/python3.10/dist-packages (from hydra-core->espnet==202304) (4.9.3)\n",
            "Requirement already satisfied: pycparser in /usr/local/lib/python3.10/dist-packages (from cffi>=1.0->soundfile>=0.10.2->espnet==202304) (2.21)\n",
            "Requirement already satisfied: pydantic<2,>=1.9.1 in /usr/local/lib/python3.10/dist-packages (from inflect>=1.0.0->espnet_tts_frontend->espnet==202304) (1.10.12)\n",
            "Requirement already satisfied: llvmlite<0.40,>=0.39.0dev0 in /usr/local/lib/python3.10/dist-packages (from numba>=0.45.1->librosa==0.9.2->espnet==202304) (0.39.1)\n",
            "Requirement already satisfied: appdirs>=1.3.0 in /usr/local/lib/python3.10/dist-packages (from pooch>=1.0->librosa==0.9.2->espnet==202304) (1.4.4)\n",
            "Requirement already satisfied: requests>=2.19.0 in /usr/local/lib/python3.10/dist-packages (from pooch>=1.0->librosa==0.9.2->espnet==202304) (2.27.1)\n",
            "Requirement already satisfied: threadpoolctl>=2.0.0 in /usr/local/lib/python3.10/dist-packages (from scikit-learn>=0.19.1->librosa==0.9.2->espnet==202304) (3.2.0)\n",
            "Requirement already satisfied: distance>=0.1.3 in /usr/local/lib/python3.10/dist-packages (from g2p-en->espnet_tts_frontend->espnet==202304) (0.1.3)\n",
            "Requirement already satisfied: MarkupSafe>=2.0 in /usr/local/lib/python3.10/dist-packages (from jinja2->torch>=1.3.0->espnet==202304) (2.1.3)\n",
            "Requirement already satisfied: mpmath>=0.19 in /usr/local/lib/python3.10/dist-packages (from sympy->torch>=1.3.0->espnet==202304) (1.3.0)\n",
            "Requirement already satisfied: urllib3<1.27,>=1.21.1 in /usr/local/lib/python3.10/dist-packages (from requests>=2.19.0->pooch>=1.0->librosa==0.9.2->espnet==202304) (1.26.16)\n",
            "Requirement already satisfied: certifi>=2017.4.17 in /usr/local/lib/python3.10/dist-packages (from requests>=2.19.0->pooch>=1.0->librosa==0.9.2->espnet==202304) (2023.7.22)\n",
            "Requirement already satisfied: charset-normalizer~=2.0.0 in /usr/local/lib/python3.10/dist-packages (from requests>=2.19.0->pooch>=1.0->librosa==0.9.2->espnet==202304) (2.0.12)\n",
            "Requirement already satisfied: idna<4,>=2.5 in /usr/local/lib/python3.10/dist-packages (from requests>=2.19.0->pooch>=1.0->librosa==0.9.2->espnet==202304) (3.4)\n",
            "Building wheels for collected packages: espnet\n",
            "  Building wheel for espnet (setup.py) ... \u001b[?25l\u001b[?25hdone\n",
            "  Created wheel for espnet: filename=espnet-202304-py3-none-any.whl size=1606957 sha256=0b70d01d67f45d26e4fdc6cf6cc0d7e8c96cc566139b796739a62e4df2b64785\n",
            "  Stored in directory: /tmp/pip-ephem-wheel-cache-4fqrkr53/wheels/fc/b1/a1/a9b016dc96c6f6403ae92c9bc0984cd5b8d42ca7153a3d6cdd\n",
            "Successfully built espnet\n",
            "Installing collected packages: protobuf, espnet\n",
            "  Attempting uninstall: protobuf\n",
            "    Found existing installation: protobuf 4.23.4\n",
            "    Uninstalling protobuf-4.23.4:\n",
            "      Successfully uninstalled protobuf-4.23.4\n",
            "  Attempting uninstall: espnet\n",
            "    Found existing installation: espnet 202304\n",
            "    Uninstalling espnet-202304:\n",
            "      Successfully uninstalled espnet-202304\n",
            "\u001b[31mERROR: pip's dependency resolver does not currently take into account all the packages that are installed. This behaviour is the source of the following dependency conflicts.\n",
            "google-api-core 2.11.1 requires protobuf!=3.20.0,!=3.20.1,!=4.21.0,!=4.21.1,!=4.21.2,!=4.21.3,!=4.21.4,!=4.21.5,<5.0.0.dev0,>=3.19.5, but you have protobuf 3.20.1 which is incompatible.\n",
            "google-cloud-bigquery 3.10.0 requires protobuf!=3.20.0,!=3.20.1,!=4.21.0,!=4.21.1,!=4.21.2,!=4.21.3,!=4.21.4,!=4.21.5,<5.0.0dev,>=3.19.5, but you have protobuf 3.20.1 which is incompatible.\n",
            "google-cloud-bigquery-connection 1.12.1 requires protobuf!=3.20.0,!=3.20.1,!=4.21.0,!=4.21.1,!=4.21.2,!=4.21.3,!=4.21.4,!=4.21.5,<5.0.0dev,>=3.19.5, but you have protobuf 3.20.1 which is incompatible.\n",
            "google-cloud-bigquery-storage 2.22.0 requires protobuf!=3.20.0,!=3.20.1,!=4.21.0,!=4.21.1,!=4.21.2,!=4.21.3,!=4.21.4,!=4.21.5,<5.0.0dev,>=3.19.5, but you have protobuf 3.20.1 which is incompatible.\n",
            "google-cloud-datastore 2.15.2 requires protobuf!=3.20.0,!=3.20.1,!=4.21.0,!=4.21.1,!=4.21.2,!=4.21.3,!=4.21.4,!=4.21.5,<5.0.0dev,>=3.19.5, but you have protobuf 3.20.1 which is incompatible.\n",
            "google-cloud-firestore 2.11.1 requires protobuf!=3.20.0,!=3.20.1,!=4.21.0,!=4.21.1,!=4.21.2,!=4.21.3,!=4.21.4,!=4.21.5,<5.0.0dev,>=3.19.5, but you have protobuf 3.20.1 which is incompatible.\n",
            "google-cloud-functions 1.13.1 requires protobuf!=3.20.0,!=3.20.1,!=4.21.0,!=4.21.1,!=4.21.2,!=4.21.3,!=4.21.4,!=4.21.5,<5.0.0dev,>=3.19.5, but you have protobuf 3.20.1 which is incompatible.\n",
            "google-cloud-language 2.9.1 requires protobuf!=3.20.0,!=3.20.1,!=4.21.0,!=4.21.1,!=4.21.2,!=4.21.3,!=4.21.4,!=4.21.5,<5.0.0dev,>=3.19.5, but you have protobuf 3.20.1 which is incompatible.\n",
            "google-cloud-translate 3.11.2 requires protobuf!=3.20.0,!=3.20.1,!=4.21.0,!=4.21.1,!=4.21.2,!=4.21.3,!=4.21.4,!=4.21.5,<5.0.0dev,>=3.19.5, but you have protobuf 3.20.1 which is incompatible.\n",
            "googleapis-common-protos 1.59.1 requires protobuf!=3.20.0,!=3.20.1,!=4.21.1,!=4.21.2,!=4.21.3,!=4.21.4,!=4.21.5,<5.0.0.dev0,>=3.19.5, but you have protobuf 3.20.1 which is incompatible.\n",
            "grpc-google-iam-v1 0.12.6 requires protobuf!=3.20.0,!=3.20.1,!=4.21.1,!=4.21.2,!=4.21.3,!=4.21.4,!=4.21.5,<5.0.0dev,>=3.19.5, but you have protobuf 3.20.1 which is incompatible.\n",
            "tensorboardx 2.6.1 requires protobuf>=4.22.3, but you have protobuf 3.20.1 which is incompatible.\n",
            "tensorflow 2.12.0 requires protobuf!=4.21.0,!=4.21.1,!=4.21.2,!=4.21.3,!=4.21.4,!=4.21.5,<5.0.0dev,>=3.20.3, but you have protobuf 3.20.1 which is incompatible.\n",
            "tensorflow-metadata 1.13.1 requires protobuf<5,>=3.20.3, but you have protobuf 3.20.1 which is incompatible.\u001b[0m\u001b[31m\n",
            "\u001b[0mSuccessfully installed espnet-202304 protobuf-3.20.1\n"
          ]
        },
        {
          "output_type": "display_data",
          "data": {
            "application/vnd.colab-display-data+json": {
              "pip_warning": {
                "packages": [
                  "espnet",
                  "espnet2",
                  "google"
                ]
              }
            }
          },
          "metadata": {}
        }
      ]
    },
    {
      "cell_type": "code",
      "source": [
        "import soundfile as sf\n",
        "from espnet2.bin.tts_inference import Text2Speech"
      ],
      "metadata": {
        "id": "BIRgZH_z-thw"
      },
      "execution_count": 1,
      "outputs": []
    },
    {
      "cell_type": "markdown",
      "source": [
        "모델 테스트"
      ],
      "metadata": {
        "id": "osGPpOIS-5VT"
      }
    },
    {
      "cell_type": "code",
      "source": [
        "model_checkpoint_path = '/content/drive/My Drive/DaddyPeak/Tacotron2/result/tacotron2_checkpoint.pkl'\n",
        "\n",
        "input_text = \"나는 지금 타코트론 한국어 테스트를 진행하고 있습니다.\"\n",
        "\n",
        "text2speech = Text2Speech.from_pretrained(model_file=model_checkpoint_path)\n",
        "\n",
        "speech = text2speech(input_text)[\"wav\"]\n",
        "output_file = \"/content/drive/My Drive/DaddyPeak/Tacotron2/generated_audio/output.wav\"\n",
        "sf.write(output_file, speech.numpy(), text2speech.fs, \"PCM_16\")"
      ],
      "metadata": {
        "colab": {
          "base_uri": "https://localhost:8080/",
          "height": 396
        },
        "id": "CyOJTF7E-5Fo",
        "outputId": "0aab0854-d64f-4ba3-9c1b-595f0be08daa"
      },
      "execution_count": 23,
      "outputs": [
        {
          "output_type": "error",
          "ename": "FileNotFoundError",
          "evalue": "ignored",
          "traceback": [
            "\u001b[0;31m---------------------------------------------------------------------------\u001b[0m",
            "\u001b[0;31mFileNotFoundError\u001b[0m                         Traceback (most recent call last)",
            "\u001b[0;32m<ipython-input-23-6816c85fe148>\u001b[0m in \u001b[0;36m<cell line: 5>\u001b[0;34m()\u001b[0m\n\u001b[1;32m      3\u001b[0m \u001b[0minput_text\u001b[0m \u001b[0;34m=\u001b[0m \u001b[0;34m\"나는 지금 타코트론 한국어 테스트를 진행하고 있습니다.\"\u001b[0m\u001b[0;34m\u001b[0m\u001b[0;34m\u001b[0m\u001b[0m\n\u001b[1;32m      4\u001b[0m \u001b[0;34m\u001b[0m\u001b[0m\n\u001b[0;32m----> 5\u001b[0;31m \u001b[0mtext2speech\u001b[0m \u001b[0;34m=\u001b[0m \u001b[0mText2Speech\u001b[0m\u001b[0;34m.\u001b[0m\u001b[0mfrom_pretrained\u001b[0m\u001b[0;34m(\u001b[0m\u001b[0mmodel_file\u001b[0m\u001b[0;34m=\u001b[0m\u001b[0mmodel_checkpoint_path\u001b[0m\u001b[0;34m)\u001b[0m\u001b[0;34m\u001b[0m\u001b[0;34m\u001b[0m\u001b[0m\n\u001b[0m\u001b[1;32m      6\u001b[0m \u001b[0;34m\u001b[0m\u001b[0m\n\u001b[1;32m      7\u001b[0m \u001b[0mspeech\u001b[0m \u001b[0;34m=\u001b[0m \u001b[0mtext2speech\u001b[0m\u001b[0;34m(\u001b[0m\u001b[0minput_text\u001b[0m\u001b[0;34m)\u001b[0m\u001b[0;34m[\u001b[0m\u001b[0;34m\"wav\"\u001b[0m\u001b[0;34m]\u001b[0m\u001b[0;34m\u001b[0m\u001b[0;34m\u001b[0m\u001b[0m\n",
            "\u001b[0;32m/usr/local/lib/python3.10/dist-packages/espnet2/bin/tts_inference.py\u001b[0m in \u001b[0;36mfrom_pretrained\u001b[0;34m(model_tag, vocoder_tag, **kwargs)\u001b[0m\n\u001b[1;32m    304\u001b[0m                 \u001b[0;32mraise\u001b[0m \u001b[0mValueError\u001b[0m\u001b[0;34m(\u001b[0m\u001b[0;34mf\"{vocoder_tag} is unsupported format.\"\u001b[0m\u001b[0;34m)\u001b[0m\u001b[0;34m\u001b[0m\u001b[0;34m\u001b[0m\u001b[0m\n\u001b[1;32m    305\u001b[0m \u001b[0;34m\u001b[0m\u001b[0m\n\u001b[0;32m--> 306\u001b[0;31m         \u001b[0;32mreturn\u001b[0m \u001b[0mText2Speech\u001b[0m\u001b[0;34m(\u001b[0m\u001b[0;34m**\u001b[0m\u001b[0mkwargs\u001b[0m\u001b[0;34m)\u001b[0m\u001b[0;34m\u001b[0m\u001b[0;34m\u001b[0m\u001b[0m\n\u001b[0m\u001b[1;32m    307\u001b[0m \u001b[0;34m\u001b[0m\u001b[0m\n\u001b[1;32m    308\u001b[0m \u001b[0;34m\u001b[0m\u001b[0m\n",
            "\u001b[0;32m/usr/local/lib/python3.10/dist-packages/espnet2/bin/tts_inference.py\u001b[0m in \u001b[0;36m__init__\u001b[0;34m(self, train_config, model_file, threshold, minlenratio, maxlenratio, use_teacher_forcing, use_att_constraint, backward_window, forward_window, speed_control_alpha, noise_scale, noise_scale_dur, vocoder_config, vocoder_file, dtype, device, seed, always_fix_seed, prefer_normalized_feats)\u001b[0m\n\u001b[1;32m     90\u001b[0m \u001b[0;34m\u001b[0m\u001b[0m\n\u001b[1;32m     91\u001b[0m         \u001b[0;31m# setup model\u001b[0m\u001b[0;34m\u001b[0m\u001b[0;34m\u001b[0m\u001b[0m\n\u001b[0;32m---> 92\u001b[0;31m         model, train_args = TTSTask.build_model_from_file(\n\u001b[0m\u001b[1;32m     93\u001b[0m             \u001b[0mtrain_config\u001b[0m\u001b[0;34m,\u001b[0m \u001b[0mmodel_file\u001b[0m\u001b[0;34m,\u001b[0m \u001b[0mdevice\u001b[0m\u001b[0;34m\u001b[0m\u001b[0;34m\u001b[0m\u001b[0m\n\u001b[1;32m     94\u001b[0m         )\n",
            "\u001b[0;32m/usr/local/lib/python3.10/dist-packages/espnet2/tasks/abs_task.py\u001b[0m in \u001b[0;36mbuild_model_from_file\u001b[0;34m(cls, config_file, model_file, device)\u001b[0m\n\u001b[1;32m   1880\u001b[0m             \u001b[0mconfig_file\u001b[0m \u001b[0;34m=\u001b[0m \u001b[0mPath\u001b[0m\u001b[0;34m(\u001b[0m\u001b[0mconfig_file\u001b[0m\u001b[0;34m)\u001b[0m\u001b[0;34m\u001b[0m\u001b[0;34m\u001b[0m\u001b[0m\n\u001b[1;32m   1881\u001b[0m \u001b[0;34m\u001b[0m\u001b[0m\n\u001b[0;32m-> 1882\u001b[0;31m         \u001b[0;32mwith\u001b[0m \u001b[0mconfig_file\u001b[0m\u001b[0;34m.\u001b[0m\u001b[0mopen\u001b[0m\u001b[0;34m(\u001b[0m\u001b[0;34m\"r\"\u001b[0m\u001b[0;34m,\u001b[0m \u001b[0mencoding\u001b[0m\u001b[0;34m=\u001b[0m\u001b[0;34m\"utf-8\"\u001b[0m\u001b[0;34m)\u001b[0m \u001b[0;32mas\u001b[0m \u001b[0mf\u001b[0m\u001b[0;34m:\u001b[0m\u001b[0;34m\u001b[0m\u001b[0;34m\u001b[0m\u001b[0m\n\u001b[0m\u001b[1;32m   1883\u001b[0m             \u001b[0margs\u001b[0m \u001b[0;34m=\u001b[0m \u001b[0myaml\u001b[0m\u001b[0;34m.\u001b[0m\u001b[0msafe_load\u001b[0m\u001b[0;34m(\u001b[0m\u001b[0mf\u001b[0m\u001b[0;34m)\u001b[0m\u001b[0;34m\u001b[0m\u001b[0;34m\u001b[0m\u001b[0m\n\u001b[1;32m   1884\u001b[0m         \u001b[0margs\u001b[0m \u001b[0;34m=\u001b[0m \u001b[0margparse\u001b[0m\u001b[0;34m.\u001b[0m\u001b[0mNamespace\u001b[0m\u001b[0;34m(\u001b[0m\u001b[0;34m**\u001b[0m\u001b[0margs\u001b[0m\u001b[0;34m)\u001b[0m\u001b[0;34m\u001b[0m\u001b[0;34m\u001b[0m\u001b[0m\n",
            "\u001b[0;32m/usr/lib/python3.10/pathlib.py\u001b[0m in \u001b[0;36mopen\u001b[0;34m(self, mode, buffering, encoding, errors, newline)\u001b[0m\n\u001b[1;32m   1117\u001b[0m         \u001b[0;32mif\u001b[0m \u001b[0;34m\"b\"\u001b[0m \u001b[0;32mnot\u001b[0m \u001b[0;32min\u001b[0m \u001b[0mmode\u001b[0m\u001b[0;34m:\u001b[0m\u001b[0;34m\u001b[0m\u001b[0;34m\u001b[0m\u001b[0m\n\u001b[1;32m   1118\u001b[0m             \u001b[0mencoding\u001b[0m \u001b[0;34m=\u001b[0m \u001b[0mio\u001b[0m\u001b[0;34m.\u001b[0m\u001b[0mtext_encoding\u001b[0m\u001b[0;34m(\u001b[0m\u001b[0mencoding\u001b[0m\u001b[0;34m)\u001b[0m\u001b[0;34m\u001b[0m\u001b[0;34m\u001b[0m\u001b[0m\n\u001b[0;32m-> 1119\u001b[0;31m         return self._accessor.open(self, mode, buffering, encoding, errors,\n\u001b[0m\u001b[1;32m   1120\u001b[0m                                    newline)\n\u001b[1;32m   1121\u001b[0m \u001b[0;34m\u001b[0m\u001b[0m\n",
            "\u001b[0;31mFileNotFoundError\u001b[0m: [Errno 2] No such file or directory: '/content/drive/My Drive/DaddyPeak/Tacotron2/result/config.yaml'"
          ]
        }
      ]
    },
    {
      "cell_type": "markdown",
      "source": [
        "노이즈 제거"
      ],
      "metadata": {
        "id": "bD5QOpPq-97i"
      }
    },
    {
      "cell_type": "code",
      "source": [
        "from scipy.io import wavfile\n",
        "import noisereduce as nr\n",
        "\n",
        "rate, data = wavfile.read(\"[wav파일 경로.wav]\")\n",
        "reduced_noise = nr.reduce_noise(y=data, sr=rate)\n",
        "wavfile.write(\"[노이즈제거 저장할 경로.wav]\", rate, reduced_noise)"
      ],
      "metadata": {
        "id": "oWiu6qrK-9bu"
      },
      "execution_count": null,
      "outputs": []
    }
  ]
}