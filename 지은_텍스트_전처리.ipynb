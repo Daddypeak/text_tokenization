{
  "nbformat": 4,
  "nbformat_minor": 0,
  "metadata": {
    "colab": {
      "provenance": [],
      "name": "지은_텍스트 전처리.ipynb",
      "authorship_tag": "ABX9TyNZ/H1AoOMaYI0xJ81yLeQc",
      "include_colab_link": true
    },
    "kernelspec": {
      "name": "python3",
      "display_name": "Python 3"
    },
    "language_info": {
      "name": "python"
    }
  },
  "cells": [
    {
      "cell_type": "markdown",
      "metadata": {
        "id": "view-in-github",
        "colab_type": "text"
      },
      "source": [
        "<a href=\"https://colab.research.google.com/github/Daddypeak/text_tokenization/blob/main/%EC%A7%80%EC%9D%80_%ED%85%8D%EC%8A%A4%ED%8A%B8_%EC%A0%84%EC%B2%98%EB%A6%AC.ipynb\" target=\"_parent\"><img src=\"https://colab.research.google.com/assets/colab-badge.svg\" alt=\"Open In Colab\"/></a>"
      ]
    },
    {
      "cell_type": "markdown",
      "source": [
        "### **자연어처리를 위한 텍스트 토큰화**"
      ],
      "metadata": {
        "id": "M1ls46Nvt7-P"
      }
    },
    {
      "cell_type": "markdown",
      "source": [
        "**[참고자료]**\n",
        "\n",
        "https://wikidocs.net/21698\n",
        "\n",
        "csv 텍스트 처리\n",
        "\n",
        "https://velog.io/@dltjrdud37/%ED%95%9C%EA%B5%AD%EC%96%B4-%ED%86%A0%ED%81%B0%ED%99%94by-konlpy-%EB%8B%A8%EC%96%B4%EC%9E%84%EB%B2%A0%EB%94%A9Word2Vec"
      ],
      "metadata": {
        "id": "ZzqCCobyu6vr"
      }
    },
    {
      "cell_type": "code",
      "source": [
        "import numpy as np\n",
        "import pandas as pd\n",
        "import io\n",
        "import re"
      ],
      "metadata": {
        "id": "Su75FbvW1HQC"
      },
      "execution_count": null,
      "outputs": []
    },
    {
      "cell_type": "code",
      "source": [
        "from google.colab import drive\n",
        "drive.mount('/content/drive')"
      ],
      "metadata": {
        "colab": {
          "base_uri": "https://localhost:8080/"
        },
        "id": "vAWL2hjqXii_",
        "outputId": "8c28c522-25aa-4b22-8829-1dfe438bf0ae"
      },
      "execution_count": null,
      "outputs": [
        {
          "output_type": "stream",
          "name": "stdout",
          "text": [
            "Mounted at /content/drive\n"
          ]
        }
      ]
    },
    {
      "cell_type": "code",
      "source": [
        "# csv 불러오기\n",
        "#data = pd.read_csv(\"/content/test_의좋은형제.csv\")\n",
        "#data.head()\n",
        "\n",
        "# txt 불러오기\n",
        "data = open(\"/content/drive/MyDrive/Daddypeak/방정환-의좋은형제.txt\").read()\n",
        "data"
      ],
      "metadata": {
        "id": "sZR8U5EZX2aP",
        "colab": {
          "base_uri": "https://localhost:8080/",
          "height": 381
        },
        "outputId": "e0a730be-6a8b-4945-9e35-09fdc53ed29c"
      },
      "execution_count": null,
      "outputs": [
        {
          "output_type": "execute_result",
          "data": {
            "text/plain": [
              "'\\n義[의]좋은 兄弟[형제]\\n농사가 그리 잘 되지는 못했으나, 가을이 되어 만곡이 익으매 그래도 농가\\n에서들은 기쁜 마음으로 벼를 베느라고 바빴습니다.\\n성칠이도 동네 사람들의 조력을 얻어 가지고 자기 논의 벼를 베어서, 논두\\n덕에 널어 두었습니다. 며칠간 햇볕에 말려서 거둬들일 작정이었습니다.\\n“나는 딸리는 식구가 없으니까 염려 없지마는, 형님은 식구가 많아서, 금\\n년같이 풍년들지 못한 해에는 지내시기가 곤란하실 터인데…….”\\n하루는 이런 생각이 나서,\\n“오냐, 그냥 갖다 드리면 받지 않으실 것이니까, 밤중에 넌지시 내 논의\\n벼를 옮겨다가, 형님 논두렁에 더 놓아 드려야겠다.”\\n하고, 그 날 밤에 형님도 동리 사람도 다 잠들기를 기다려서 넌지시 지게를\\n지고 나가서 자기 논두렁의 벼를 여러 차례 옮겨다가 형님네 논두렁에 보태\\n놓아 두고 돌아왔습니다.\\n그러나, 이상한 일입니다. 이튿날 나가 본즉, 훨씬 적어졌을 자기 논두렁\\n의 벼는 조금도 적어지지 않고, 전에 있던 그대로 있습니다.\\n“아니, 내가 분명히 어젯밤에 형님 논으로 여러 짐을 져다 두었는데, 이\\n것이 웬일일까?”\\n하고, 형님 논으로 가 보니까, 거기도 전보다 별로 많아져 보이지 않습니\\n다.\\n“아니, 내가 꿈을 꾼 것인가?”\\n하고, 그 날 온종일 이상히 여기다가 그 날 밤에 또 동리 사람이 잠들기를\\n기다려서, 넌지시 나가 자기 논의 벼를 여러 짐 져다가 형님의 논에 널어\\n두었습니다.\\n그리고, 이튿날 나가 보니 참 이상합니다. 그래도 자기 논에는 벼가 줄지\\n아니하였고, 형님 논에 늘지도 않았습니다.\\n“이건 참 귀신의 장난 같구나! 대체 어찌된 까닭을 모르겠다.”\\n하고, 또 그 날 밤이 되기를 기다려서, 자기 논의 벼를 거둬서 짊어지고 형\\n님 논으로 갔습니다.\\n마침 그 날은 날이 흐리어 별 하나도 없어서 몹시 캄캄하므로, 구렁에 빠\\n지지 않으려고 길바닥만 보면서 가는데, 저편에서 무언지 시꺼먼 것이 이쪽\\n으로 마주 오므로 깜짝 놀라서 발을 멈추고 우뚝 섰습니다.\\n“그거 누구요?”\\n“그거 누구요?”\\n\\n둘이 맞닥뜨리자 양쪽에서 똑같이 이렇게 묻고 보니까, 저편에서 오는 것\\n은 형님이었습니다.\\n형님 역시 동생 생각을 하고, 밤에 넌지시 나와서, 자기 논의 벼를 여러\\n짐 져다가 동생의 논에 놓아 주었더니 이튿날 보니까 자기 벼가 적어지지도\\n않고, 동생의 벼가 늘지도 않았으므로, 이상히 여겨 밤마다 넌지시 옮기다\\n가 이날은 공교롭게 둘이 맞닥뜨린 것이었습니다.\\n그리하여, 형제는 서로 저편의 뜻을 감사히 받기 위하여 날마다 옮겨 나르\\n던 벼를 서로 교환하며 먹었습니다.\\n〈《어린이》 7권 8호, 1929년 가을 특집호, 방정환〉\\n'"
            ],
            "application/vnd.google.colaboratory.intrinsic+json": {
              "type": "string"
            }
          },
          "metadata": {},
          "execution_count": 5
        }
      ]
    },
    {
      "cell_type": "code",
      "execution_count": null,
      "metadata": {
        "id": "r7gYIR7Ssj-0",
        "colab": {
          "base_uri": "https://localhost:8080/"
        },
        "outputId": "51381af5-143b-4bf5-a392-5a91ea1e672a"
      },
      "outputs": [
        {
          "output_type": "stream",
          "name": "stdout",
          "text": [
            "Collecting konlpy\n",
            "  Downloading konlpy-0.6.0-py2.py3-none-any.whl (19.4 MB)\n",
            "\u001b[2K     \u001b[90m━━━━━━━━━━━━━━━━━━━━━━━━━━━━━━━━━━━━━━━━\u001b[0m \u001b[32m19.4/19.4 MB\u001b[0m \u001b[31m28.8 MB/s\u001b[0m eta \u001b[36m0:00:00\u001b[0m\n",
            "\u001b[?25hCollecting JPype1>=0.7.0 (from konlpy)\n",
            "  Downloading JPype1-1.4.1-cp310-cp310-manylinux_2_12_x86_64.manylinux2010_x86_64.whl (465 kB)\n",
            "\u001b[2K     \u001b[90m━━━━━━━━━━━━━━━━━━━━━━━━━━━━━━━━━━━━━━\u001b[0m \u001b[32m465.3/465.3 kB\u001b[0m \u001b[31m37.1 MB/s\u001b[0m eta \u001b[36m0:00:00\u001b[0m\n",
            "\u001b[?25hRequirement already satisfied: lxml>=4.1.0 in /usr/local/lib/python3.10/dist-packages (from konlpy) (4.9.3)\n",
            "Requirement already satisfied: numpy>=1.6 in /usr/local/lib/python3.10/dist-packages (from konlpy) (1.22.4)\n",
            "Requirement already satisfied: packaging in /usr/local/lib/python3.10/dist-packages (from JPype1>=0.7.0->konlpy) (23.1)\n",
            "Installing collected packages: JPype1, konlpy\n",
            "Successfully installed JPype1-1.4.1 konlpy-0.6.0\n"
          ]
        }
      ],
      "source": [
        "# konlpy 설치\n",
        "! pip install konlpy\n",
        "from konlpy.tag import Hannanum, Kkma, Komoran, Mecab, Okt"
      ]
    },
    {
      "cell_type": "code",
      "source": [
        "# okt를 사용한 형태소 분석\n",
        "from konlpy.tag import Okt\n",
        "\n",
        "okt = Okt()\n",
        "\n",
        "morphs = okt.morphs(data)\n",
        "pos = okt.pos(data)\n",
        "nouns = okt.nouns(data)\n",
        "\n",
        "print('OKT 형태소 분석 :', morphs)\n",
        "print('OKT 품사 태깅 :', pos)\n",
        "print('OKT 명사 추출 :', nouns)"
      ],
      "metadata": {
        "id": "wy5ka6Idt7mx",
        "colab": {
          "base_uri": "https://localhost:8080/"
        },
        "outputId": "8e42bbb8-822e-406c-e7b3-2cd082df70d2"
      },
      "execution_count": null,
      "outputs": [
        {
          "output_type": "stream",
          "name": "stdout",
          "text": [
            "OKT 형태소 분석 : ['\\n', '義', '[', '의', ']', '좋은', '兄弟', '[', '형제', ']', '\\n', '농사', '가', '그리', '잘', '되지는', '못', '했으나', ',', '가을', '이', '되어', '만', '곡', '이', '익으매', '그래도', '농가', '\\n', '에서', '들은', '기쁜', '마음', '으로', '벼', '를', '베느라고', '바빴습니다', '.', '\\n', '성', '칠이', '도', '동네', '사람', '들', '의', '조력', '을', '얻어', '가지', '고', '자기', '논의', '벼', '를', '베어서', ',', '논', '두', '\\n', '덕', '에', '널어', '두었습니다', '.', '며칠', '간', '햇볕', '에', '말려서', '거둬들일', '작정', '이었습니다', '.', '\\n', '“', '나', '는', '딸리는', '식구', '가', '없으니까', '염려', '없지마는', ',', '형님', '은', '식구', '가', '많아서', ',', '금', '\\n', '년', '같이', '풍년', '들', '지', '못', '한', '해', '에는', '지', '내', '시기', '가', '곤란하실', '터', '인데', '…….', '”', '\\n', '하루', '는', '이런', '생각', '이', '나서', ',', '\\n', '“', '오냐', ',', '그냥', '갖다', '드리면', '받지', '않으실', '것', '이니까', ',', '밤중', '에', '넌지시', '내', '논의', '\\n', '벼', '를', '옮겨다가', ',', '형님', '논', '두렁', '에', '더', '놓아', '드려야겠다', '.', '”', '\\n', '하고', ',', '그', '날', '밤', '에', '형님', '도', '동리', '사람', '도', '다', '잠들', '기를', '기다려서', '넌지시', '지게', '를', '\\n', '지고', '나가서', '자기', '논', '두렁', '의', '벼', '를', '여러', '차례', '옮겨다가', '형님', '네', '논', '두렁', '에', '보태', '\\n', '놓아', '두고', '돌아왔습니다', '.', '\\n', '그러나', ',', '이상한', '일', '입니다', '.', '이튿날', '나가', '본', '즉', ',', '훨씬', '적어졌을', '자기', '논', '두렁', '\\n', '의', '벼', '는', '조금', '도', '적어지지', '않고', ',', '전', '에', '있던', '그대로', '있습니다', '.', '\\n', '“', '아니', ',', '내', '가', '분명히', '어젯밤', '에', '형님', '논', '으로', '여러', '짐', '을', '져다', '두었는데', ',', '이', '\\n', '것', '이', '웬', '일일', '까', '?', '”', '\\n', '하고', ',', '형님', '논', '으로', '가', '보', '니까', ',', '거기', '도', '전보', '다', '별로', '많아져', '보이지', '않', '습', '니', '\\n', '다', '.', '\\n', '“', '아니', ',', '내', '가', '꿈', '을', '꾼', '것', '인가', '?', '”', '\\n', '하고', ',', '그', '날', '온종일', '이상히', '여기다가', '그', '날', '밤', '에', '또', '동리', '사람', '이', '잠들', '기를', '\\n', '기다려서', ',', '넌지시', '나가', '자기', '논의', '벼', '를', '여러', '짐', '져다가', '형님', '의', '논', '에', '널어', '\\n', '두었습니다', '.', '\\n', '그리고', ',', '이튿날', '나가', '보니', '참', '이상합니다', '.', '그래도', '자기', '논', '에는', '벼', '가', '줄', '지', '\\n', '아니하였고', ',', '형님', '논', '에', '늘지도', '않았습니다', '.', '\\n', '“', '이건', '참', '귀신', '의', '장난', '같구나', '!', '대체', '어찌', '된', '까닭', '을', '모르겠다', '.', '”', '\\n', '하고', ',', '또', '그', '날', '밤', '이', '되', '기를', '기다려서', ',', '자기', '논의', '벼', '를', '거둬서', '짊어지', '고', '형', '\\n', '님', '논', '으로', '갔습니다', '.', '\\n', '마침', '그', '날', '은', '날', '이', '흐리어', '별', '하나', '도', '없어서', '몹시', '캄캄하므로', ',', '구렁', '에', '빠', '\\n', '지지', '않으려고', '길', '바닥', '만', '보면서', '가는데', ',', '저편', '에서', '무언', '지', '시꺼먼', '것', '이', '이', '쪽', '\\n', '으로', '마주', '오므로', '깜짝', '놀라서', '발', '을', '멈추고', '우뚝', '섰습니다', '.', '\\n', '“', '그거', '누구', '요', '?', '”', '\\n', '“', '그거', '누구', '요', '?', '”', '\\n\\n', '둘', '이', '맞닥뜨', '리자', '양쪽', '에서', '똑같이', '이렇게', '묻고', '보', '니까', ',', '저편', '에서', '오는', '것', '\\n', '은', '형님', '이었습니다', '.', '\\n', '형님', '역시', '동생', '생각', '을', '하고', ',', '밤', '에', '넌지시', '나와서', ',', '자기', '논의', '벼', '를', '여러', '\\n', '짐', '져다가', '동생', '의', '논', '에', '놓아', '주었더니', '이튿날', '보', '니까', '자기', '벼', '가', '적어지지도', '\\n', '않고', ',', '동생', '의', '벼', '가', '늘지도', '않았으므로', ',', '이상히', '여겨', '밤', '마다', '넌지시', '옮기다', '\\n', '가', '이', '날', '은', '공교롭', '게', '둘', '이', '맞닥뜨린', '것', '이었습니다', '.', '\\n', '그리하여', ',', '형제', '는', '서로', '저편', '의', '뜻', '을', '감사히', '받기', '위', '하여', '날', '마다', '옮겨', '나르', '\\n', '던', '벼', '를', '서로', '교환', '하며', '먹었습니다', '.', '\\n', '〈《', '어린이', '》', '7', '권', '8', '호', ',', '1929년', '가을', '특집', '호', ',', '방정환', '〉', '\\n']\n",
            "OKT 품사 태깅 : [('\\n', 'Foreign'), ('義', 'Foreign'), ('[', 'Punctuation'), ('의', 'Noun'), (']', 'Punctuation'), ('좋은', 'Adjective'), ('兄弟', 'Foreign'), ('[', 'Punctuation'), ('형제', 'Noun'), (']', 'Punctuation'), ('\\n', 'Foreign'), ('농사', 'Noun'), ('가', 'Josa'), ('그리', 'Verb'), ('잘', 'Verb'), ('되지는', 'Verb'), ('못', 'VerbPrefix'), ('했으나', 'Verb'), (',', 'Punctuation'), ('가을', 'Noun'), ('이', 'Josa'), ('되어', 'Verb'), ('만', 'Modifier'), ('곡', 'Noun'), ('이', 'Josa'), ('익으매', 'Verb'), ('그래도', 'Adverb'), ('농가', 'Noun'), ('\\n', 'Foreign'), ('에서', 'Josa'), ('들은', 'Verb'), ('기쁜', 'Adjective'), ('마음', 'Noun'), ('으로', 'Josa'), ('벼', 'Noun'), ('를', 'Josa'), ('베느라고', 'Verb'), ('바빴습니다', 'Adjective'), ('.', 'Punctuation'), ('\\n', 'Foreign'), ('성', 'Modifier'), ('칠이', 'Noun'), ('도', 'Josa'), ('동네', 'Noun'), ('사람', 'Noun'), ('들', 'Suffix'), ('의', 'Josa'), ('조력', 'Noun'), ('을', 'Josa'), ('얻어', 'Verb'), ('가지', 'Noun'), ('고', 'Josa'), ('자기', 'Noun'), ('논의', 'Noun'), ('벼', 'Noun'), ('를', 'Josa'), ('베어서', 'Verb'), (',', 'Punctuation'), ('논', 'Noun'), ('두', 'Josa'), ('\\n', 'Foreign'), ('덕', 'Noun'), ('에', 'Josa'), ('널어', 'Verb'), ('두었습니다', 'Verb'), ('.', 'Punctuation'), ('며칠', 'Noun'), ('간', 'Suffix'), ('햇볕', 'Noun'), ('에', 'Josa'), ('말려서', 'Verb'), ('거둬들일', 'Verb'), ('작정', 'Noun'), ('이었습니다', 'Verb'), ('.', 'Punctuation'), ('\\n', 'Foreign'), ('“', 'Foreign'), ('나', 'Noun'), ('는', 'Josa'), ('딸리는', 'Verb'), ('식구', 'Noun'), ('가', 'Josa'), ('없으니까', 'Adjective'), ('염려', 'Noun'), ('없지마는', 'Adjective'), (',', 'Punctuation'), ('형님', 'Noun'), ('은', 'Josa'), ('식구', 'Noun'), ('가', 'Josa'), ('많아서', 'Adjective'), (',', 'Punctuation'), ('금', 'Noun'), ('\\n', 'Foreign'), ('년', 'Noun'), ('같이', 'Josa'), ('풍년', 'Noun'), ('들', 'Suffix'), ('지', 'Josa'), ('못', 'Noun'), ('한', 'Josa'), ('해', 'Noun'), ('에는', 'Josa'), ('지', 'Modifier'), ('내', 'Modifier'), ('시기', 'Noun'), ('가', 'Josa'), ('곤란하실', 'Adjective'), ('터', 'Noun'), ('인데', 'Josa'), ('…….', 'Punctuation'), ('”', 'Foreign'), ('\\n', 'Foreign'), ('하루', 'Noun'), ('는', 'Josa'), ('이런', 'Adjective'), ('생각', 'Noun'), ('이', 'Josa'), ('나서', 'Verb'), (',', 'Punctuation'), ('\\n', 'Foreign'), ('“', 'Foreign'), ('오냐', 'Noun'), (',', 'Punctuation'), ('그냥', 'Noun'), ('갖다', 'Verb'), ('드리면', 'Verb'), ('받지', 'Verb'), ('않으실', 'Verb'), ('것', 'Noun'), ('이니까', 'Josa'), (',', 'Punctuation'), ('밤중', 'Noun'), ('에', 'Josa'), ('넌지시', 'Noun'), ('내', 'Noun'), ('논의', 'Noun'), ('\\n', 'Foreign'), ('벼', 'Noun'), ('를', 'Josa'), ('옮겨다가', 'Verb'), (',', 'Punctuation'), ('형님', 'Noun'), ('논', 'Noun'), ('두렁', 'Noun'), ('에', 'Josa'), ('더', 'Noun'), ('놓아', 'Verb'), ('드려야겠다', 'Verb'), ('.', 'Punctuation'), ('”', 'Foreign'), ('\\n', 'Foreign'), ('하고', 'Verb'), (',', 'Punctuation'), ('그', 'Noun'), ('날', 'Noun'), ('밤', 'Noun'), ('에', 'Josa'), ('형님', 'Noun'), ('도', 'Josa'), ('동리', 'Noun'), ('사람', 'Noun'), ('도', 'Josa'), ('다', 'Adverb'), ('잠들', 'Verb'), ('기를', 'Verb'), ('기다려서', 'Verb'), ('넌지시', 'Noun'), ('지게', 'Noun'), ('를', 'Josa'), ('\\n', 'Foreign'), ('지고', 'Noun'), ('나가서', 'Verb'), ('자기', 'Noun'), ('논', 'Noun'), ('두렁', 'Noun'), ('의', 'Josa'), ('벼', 'Noun'), ('를', 'Josa'), ('여러', 'Noun'), ('차례', 'Noun'), ('옮겨다가', 'Verb'), ('형님', 'Noun'), ('네', 'Josa'), ('논', 'Noun'), ('두렁', 'Noun'), ('에', 'Josa'), ('보태', 'Noun'), ('\\n', 'Foreign'), ('놓아', 'Verb'), ('두고', 'Verb'), ('돌아왔습니다', 'Verb'), ('.', 'Punctuation'), ('\\n', 'Foreign'), ('그러나', 'Conjunction'), (',', 'Punctuation'), ('이상한', 'Adjective'), ('일', 'Noun'), ('입니다', 'Adjective'), ('.', 'Punctuation'), ('이튿날', 'Noun'), ('나가', 'Verb'), ('본', 'Modifier'), ('즉', 'Noun'), (',', 'Punctuation'), ('훨씬', 'Adverb'), ('적어졌을', 'Verb'), ('자기', 'Noun'), ('논', 'Noun'), ('두렁', 'Noun'), ('\\n', 'Foreign'), ('의', 'Noun'), ('벼', 'Noun'), ('는', 'Josa'), ('조금', 'Noun'), ('도', 'Josa'), ('적어지지', 'Verb'), ('않고', 'Verb'), (',', 'Punctuation'), ('전', 'Noun'), ('에', 'Josa'), ('있던', 'Adjective'), ('그대로', 'Noun'), ('있습니다', 'Adjective'), ('.', 'Punctuation'), ('\\n', 'Foreign'), ('“', 'Foreign'), ('아니', 'Adjective'), (',', 'Punctuation'), ('내', 'Noun'), ('가', 'Josa'), ('분명히', 'Adjective'), ('어젯밤', 'Noun'), ('에', 'Josa'), ('형님', 'Noun'), ('논', 'Noun'), ('으로', 'Josa'), ('여러', 'Noun'), ('짐', 'Noun'), ('을', 'Josa'), ('져다', 'Verb'), ('두었는데', 'Verb'), (',', 'Punctuation'), ('이', 'Noun'), ('\\n', 'Foreign'), ('것', 'Noun'), ('이', 'Josa'), ('웬', 'Modifier'), ('일일', 'Noun'), ('까', 'Verb'), ('?', 'Punctuation'), ('”', 'Foreign'), ('\\n', 'Foreign'), ('하고', 'Verb'), (',', 'Punctuation'), ('형님', 'Noun'), ('논', 'Noun'), ('으로', 'Josa'), ('가', 'Verb'), ('보', 'Noun'), ('니까', 'Josa'), (',', 'Punctuation'), ('거기', 'Noun'), ('도', 'Josa'), ('전보', 'Noun'), ('다', 'Josa'), ('별로', 'Noun'), ('많아져', 'Verb'), ('보이지', 'Noun'), ('않', 'Verb'), ('습', 'Noun'), ('니', 'Josa'), ('\\n', 'Foreign'), ('다', 'Adverb'), ('.', 'Punctuation'), ('\\n', 'Foreign'), ('“', 'Foreign'), ('아니', 'Adjective'), (',', 'Punctuation'), ('내', 'Noun'), ('가', 'Josa'), ('꿈', 'Noun'), ('을', 'Josa'), ('꾼', 'Noun'), ('것', 'Noun'), ('인가', 'Josa'), ('?', 'Punctuation'), ('”', 'Foreign'), ('\\n', 'Foreign'), ('하고', 'Verb'), (',', 'Punctuation'), ('그', 'Noun'), ('날', 'Noun'), ('온종일', 'Noun'), ('이상히', 'Adjective'), ('여기다가', 'Verb'), ('그', 'Noun'), ('날', 'Noun'), ('밤', 'Noun'), ('에', 'Josa'), ('또', 'Noun'), ('동리', 'Noun'), ('사람', 'Noun'), ('이', 'Josa'), ('잠들', 'Verb'), ('기를', 'Verb'), ('\\n', 'Foreign'), ('기다려서', 'Verb'), (',', 'Punctuation'), ('넌지시', 'Noun'), ('나가', 'Verb'), ('자기', 'Noun'), ('논의', 'Noun'), ('벼', 'Noun'), ('를', 'Josa'), ('여러', 'Noun'), ('짐', 'Noun'), ('져다가', 'Verb'), ('형님', 'Noun'), ('의', 'Josa'), ('논', 'Noun'), ('에', 'Josa'), ('널어', 'Verb'), ('\\n', 'Foreign'), ('두었습니다', 'Verb'), ('.', 'Punctuation'), ('\\n', 'Foreign'), ('그리고', 'Conjunction'), (',', 'Punctuation'), ('이튿날', 'Noun'), ('나가', 'Verb'), ('보니', 'Verb'), ('참', 'Verb'), ('이상합니다', 'Adjective'), ('.', 'Punctuation'), ('그래도', 'Adverb'), ('자기', 'Noun'), ('논', 'Noun'), ('에는', 'Josa'), ('벼', 'Noun'), ('가', 'Josa'), ('줄', 'Noun'), ('지', 'Josa'), ('\\n', 'Foreign'), ('아니하였고', 'Adjective'), (',', 'Punctuation'), ('형님', 'Noun'), ('논', 'Noun'), ('에', 'Josa'), ('늘지도', 'Verb'), ('않았습니다', 'Verb'), ('.', 'Punctuation'), ('\\n', 'Foreign'), ('“', 'Foreign'), ('이건', 'Noun'), ('참', 'Verb'), ('귀신', 'Noun'), ('의', 'Josa'), ('장난', 'Noun'), ('같구나', 'Adjective'), ('!', 'Punctuation'), ('대체', 'Noun'), ('어찌', 'Noun'), ('된', 'Verb'), ('까닭', 'Noun'), ('을', 'Josa'), ('모르겠다', 'Verb'), ('.', 'Punctuation'), ('”', 'Foreign'), ('\\n', 'Foreign'), ('하고', 'Verb'), (',', 'Punctuation'), ('또', 'Noun'), ('그', 'Noun'), ('날', 'Noun'), ('밤', 'Noun'), ('이', 'Josa'), ('되', 'Verb'), ('기를', 'Verb'), ('기다려서', 'Verb'), (',', 'Punctuation'), ('자기', 'Noun'), ('논의', 'Noun'), ('벼', 'Noun'), ('를', 'Josa'), ('거둬서', 'Verb'), ('짊어지', 'Noun'), ('고', 'Josa'), ('형', 'Noun'), ('\\n', 'Foreign'), ('님', 'Suffix'), ('논', 'Noun'), ('으로', 'Josa'), ('갔습니다', 'Verb'), ('.', 'Punctuation'), ('\\n', 'Foreign'), ('마침', 'Noun'), ('그', 'Noun'), ('날', 'Noun'), ('은', 'Josa'), ('날', 'Noun'), ('이', 'Josa'), ('흐리어', 'Verb'), ('별', 'Noun'), ('하나', 'Noun'), ('도', 'Josa'), ('없어서', 'Adjective'), ('몹시', 'Noun'), ('캄캄하므로', 'Adjective'), (',', 'Punctuation'), ('구렁', 'Noun'), ('에', 'Josa'), ('빠', 'Noun'), ('\\n', 'Foreign'), ('지지', 'Noun'), ('않으려고', 'Verb'), ('길', 'Noun'), ('바닥', 'Noun'), ('만', 'Josa'), ('보면서', 'Verb'), ('가는데', 'Verb'), (',', 'Punctuation'), ('저편', 'Noun'), ('에서', 'Josa'), ('무언', 'Noun'), ('지', 'Josa'), ('시꺼먼', 'Adjective'), ('것', 'Noun'), ('이', 'Josa'), ('이', 'Determiner'), ('쪽', 'Noun'), ('\\n', 'Foreign'), ('으로', 'Josa'), ('마주', 'Noun'), ('오므로', 'Verb'), ('깜짝', 'Noun'), ('놀라서', 'Verb'), ('발', 'Noun'), ('을', 'Josa'), ('멈추고', 'Verb'), ('우뚝', 'Noun'), ('섰습니다', 'Verb'), ('.', 'Punctuation'), ('\\n', 'Foreign'), ('“', 'Foreign'), ('그거', 'Noun'), ('누구', 'Noun'), ('요', 'Josa'), ('?', 'Punctuation'), ('”', 'Foreign'), ('\\n', 'Foreign'), ('“', 'Foreign'), ('그거', 'Noun'), ('누구', 'Noun'), ('요', 'Josa'), ('?', 'Punctuation'), ('”', 'Foreign'), ('\\n\\n', 'Foreign'), ('둘', 'Noun'), ('이', 'Josa'), ('맞닥뜨', 'Noun'), ('리자', 'Noun'), ('양쪽', 'Noun'), ('에서', 'Josa'), ('똑같이', 'Adverb'), ('이렇게', 'Adverb'), ('묻고', 'Verb'), ('보', 'Noun'), ('니까', 'Josa'), (',', 'Punctuation'), ('저편', 'Noun'), ('에서', 'Josa'), ('오는', 'Verb'), ('것', 'Noun'), ('\\n', 'Foreign'), ('은', 'Noun'), ('형님', 'Noun'), ('이었습니다', 'Verb'), ('.', 'Punctuation'), ('\\n', 'Foreign'), ('형님', 'Noun'), ('역시', 'Noun'), ('동생', 'Noun'), ('생각', 'Noun'), ('을', 'Josa'), ('하고', 'Verb'), (',', 'Punctuation'), ('밤', 'Noun'), ('에', 'Josa'), ('넌지시', 'Noun'), ('나와서', 'Verb'), (',', 'Punctuation'), ('자기', 'Noun'), ('논의', 'Noun'), ('벼', 'Noun'), ('를', 'Josa'), ('여러', 'Noun'), ('\\n', 'Foreign'), ('짐', 'Noun'), ('져다가', 'Verb'), ('동생', 'Noun'), ('의', 'Josa'), ('논', 'Noun'), ('에', 'Josa'), ('놓아', 'Verb'), ('주었더니', 'Verb'), ('이튿날', 'Noun'), ('보', 'Noun'), ('니까', 'Josa'), ('자기', 'Noun'), ('벼', 'Noun'), ('가', 'Josa'), ('적어지지도', 'Verb'), ('\\n', 'Foreign'), ('않고', 'Verb'), (',', 'Punctuation'), ('동생', 'Noun'), ('의', 'Josa'), ('벼', 'Noun'), ('가', 'Josa'), ('늘지도', 'Verb'), ('않았으므로', 'Verb'), (',', 'Punctuation'), ('이상히', 'Adjective'), ('여겨', 'Verb'), ('밤', 'Noun'), ('마다', 'Josa'), ('넌지시', 'Noun'), ('옮기다', 'Verb'), ('\\n', 'Foreign'), ('가', 'Verb'), ('이', 'Determiner'), ('날', 'Noun'), ('은', 'Josa'), ('공교롭', 'Noun'), ('게', 'Josa'), ('둘', 'Noun'), ('이', 'Josa'), ('맞닥뜨린', 'Noun'), ('것', 'Noun'), ('이었습니다', 'Verb'), ('.', 'Punctuation'), ('\\n', 'Foreign'), ('그리하여', 'Conjunction'), (',', 'Punctuation'), ('형제', 'Noun'), ('는', 'Josa'), ('서로', 'Noun'), ('저편', 'Noun'), ('의', 'Josa'), ('뜻', 'Noun'), ('을', 'Josa'), ('감사히', 'Adverb'), ('받기', 'Verb'), ('위', 'Noun'), ('하여', 'Verb'), ('날', 'Noun'), ('마다', 'Josa'), ('옮겨', 'Verb'), ('나르', 'Verb'), ('\\n', 'Foreign'), ('던', 'Noun'), ('벼', 'Noun'), ('를', 'Josa'), ('서로', 'Noun'), ('교환', 'Noun'), ('하며', 'Verb'), ('먹었습니다', 'Verb'), ('.', 'Punctuation'), ('\\n', 'Foreign'), ('〈《', 'Foreign'), ('어린이', 'Noun'), ('》', 'Foreign'), ('7', 'Number'), ('권', 'Noun'), ('8', 'Number'), ('호', 'Noun'), (',', 'Punctuation'), ('1929년', 'Number'), ('가을', 'Noun'), ('특집', 'Noun'), ('호', 'Noun'), (',', 'Punctuation'), ('방정환', 'Noun'), ('〉', 'Foreign'), ('\\n', 'Foreign')]\n",
            "OKT 명사 추출 : ['의', '형제', '농사', '가을', '곡', '농가', '마음', '벼', '칠이', '동네', '사람', '조력', '가지', '자기', '논의', '벼', '논', '덕', '며칠', '햇볕', '작정', '나', '식구', '염려', '형님', '식구', '금', '년', '풍년', '못', '해', '시기', '터', '하루', '생각', '오냐', '그냥', '것', '밤중', '넌지시', '내', '논의', '벼', '형님', '논', '두렁', '더', '그', '날', '밤', '형님', '동리', '사람', '넌지시', '지게', '지고', '자기', '논', '두렁', '벼', '여러', '차례', '형님', '논', '두렁', '보태', '일', '이튿날', '즉', '자기', '논', '두렁', '의', '벼', '조금', '전', '그대로', '내', '어젯밤', '형님', '논', '여러', '짐', '이', '것', '일일', '형님', '논', '보', '거기', '전보', '별로', '보이지', '습', '내', '꿈', '꾼', '것', '그', '날', '온종일', '그', '날', '밤', '또', '동리', '사람', '넌지시', '자기', '논의', '벼', '여러', '짐', '형님', '논', '이튿날', '자기', '논', '벼', '줄', '형님', '논', '이건', '귀신', '장난', '대체', '어찌', '까닭', '또', '그', '날', '밤', '자기', '논의', '벼', '짊어지', '형', '논', '마침', '그', '날', '날', '별', '하나', '몹시', '구렁', '빠', '지지', '길', '바닥', '저편', '무언', '것', '쪽', '마주', '깜짝', '발', '우뚝', '그거', '누구', '그거', '누구', '둘', '맞닥뜨', '리자', '양쪽', '보', '저편', '것', '은', '형님', '형님', '역시', '동생', '생각', '밤', '넌지시', '자기', '논의', '벼', '여러', '짐', '동생', '논', '이튿날', '보', '자기', '벼', '동생', '벼', '밤', '넌지시', '날', '공교롭', '둘', '맞닥뜨린', '것', '형제', '서로', '저편', '뜻', '위', '날', '던', '벼', '서로', '교환', '어린이', '권', '호', '가을', '특집', '호', '방정환']\n"
          ]
        }
      ]
    },
    {
      "cell_type": "code",
      "source": [],
      "metadata": {
        "id": "JjSAqAOVQbut"
      },
      "execution_count": null,
      "outputs": []
    }
  ]
}