{
  "nbformat": 4,
  "nbformat_minor": 0,
  "metadata": {
    "colab": {
      "private_outputs": true,
      "provenance": [],
      "authorship_tag": "ABX9TyPFlSQhaw2gygzo+6QSWxHh",
      "include_colab_link": true
    },
    "kernelspec": {
      "name": "python3",
      "display_name": "Python 3"
    },
    "language_info": {
      "name": "python"
    }
  },
  "cells": [
    {
      "cell_type": "markdown",
      "metadata": {
        "id": "view-in-github",
        "colab_type": "text"
      },
      "source": [
        "<a href=\"https://colab.research.google.com/github/Daddypeak/text_tokenization/blob/main/Daddypeak_text.ipynb\" target=\"_parent\"><img src=\"https://colab.research.google.com/assets/colab-badge.svg\" alt=\"Open In Colab\"/></a>"
      ]
    },
    {
      "cell_type": "code",
      "execution_count": null,
      "metadata": {
        "id": "zKplZeLJW0z7"
      },
      "outputs": [],
      "source": [
        "from google.colab import drive\n",
        "drive.mount('/content/drive')"
      ]
    },
    {
      "cell_type": "code",
      "source": [
        "!pip install konlpy\n",
        "!pip install nltk\n",
        "!pip install kss"
      ],
      "metadata": {
        "id": "gBcRIfktW8q1"
      },
      "execution_count": null,
      "outputs": []
    },
    {
      "cell_type": "code",
      "source": [
        "from konlpy.tag import Okt"
      ],
      "metadata": {
        "id": "B8K1ZOYdb_gM"
      },
      "execution_count": null,
      "outputs": []
    },
    {
      "cell_type": "code",
      "source": [
        "# 파일 경로 리스트\n",
        "file_paths = [\"/content/drive/MyDrive/Colab Notebooks/Daddypeak/data/file1.txt\", \"/content/drive/MyDrive/Colab Notebooks/Daddypeak/data/file2.txt\", \"/content/drive/MyDrive/Colab Notebooks/Daddypeak/data/file3.txt\"]"
      ],
      "metadata": {
        "id": "tceTQa0QW-Ms"
      },
      "execution_count": null,
      "outputs": []
    },
    {
      "cell_type": "markdown",
      "source": [
        "## OKT"
      ],
      "metadata": {
        "id": "zn8R0vmsdjFh"
      }
    },
    {
      "cell_type": "code",
      "source": [
        "# OKT 객체 생성\n",
        "okt = Okt()"
      ],
      "metadata": {
        "id": "_2c7RZsvcFDI"
      },
      "execution_count": null,
      "outputs": []
    },
    {
      "cell_type": "code",
      "source": [
        "# 파일별 토큰화된 결과를 저장할 딕셔너리\n",
        "tokenized_data = {\n",
        "    'morphs': [],\n",
        "    'nouns': [],\n",
        "    'pos': []\n",
        "}"
      ],
      "metadata": {
        "id": "EqsAHW3lbmtG"
      },
      "execution_count": null,
      "outputs": []
    },
    {
      "cell_type": "code",
      "source": [
        "# 파일 열기 및 토큰화 작업\n",
        "for file_path in file_paths:\n",
        "    with open(file_path, 'r', encoding='utf-8') as file:\n",
        "        data = file.read()\n",
        "\n",
        "        # 텍스트 토큰화 - morphs, nouns, pos\n",
        "        morphs_tokens = okt.morphs(data)\n",
        "        nouns_tokens = okt.nouns(data)\n",
        "        pos_tokens = okt.pos(data, norm=True, stem=True)\n",
        "\n",
        "        # 토큰화된 결과를 딕셔너리에 저장\n",
        "        tokenized_data['morphs'].append(morphs_tokens)\n",
        "        tokenized_data['nouns'].append(nouns_tokens)\n",
        "        tokenized_data['pos'].append(pos_tokens)\n"
      ],
      "metadata": {
        "id": "-pK44aRzbspd"
      },
      "execution_count": null,
      "outputs": []
    },
    {
      "cell_type": "code",
      "source": [
        "# 토큰화된 결과 확인\n",
        "for i, file_path in enumerate(file_paths, start=1):\n",
        "    print(f\"File {i} 토큰화 결과:\")\n",
        "    print(f\"Morphs: {tokenized_data['morphs'][i-1]}\")\n",
        "    print(f\"Nouns: {tokenized_data['nouns'][i-1]}\")\n",
        "    print(f\"POS: {tokenized_data['pos'][i-1]}\")\n",
        "    print(\"\\n\")"
      ],
      "metadata": {
        "id": "DclwH1h4bwB7"
      },
      "execution_count": null,
      "outputs": []
    }
  ]
}